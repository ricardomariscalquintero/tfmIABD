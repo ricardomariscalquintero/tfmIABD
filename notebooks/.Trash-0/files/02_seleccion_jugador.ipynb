{
 "cells": [
  {
   "cell_type": "markdown",
   "id": "db6d413d-5091-41c7-8a2e-81accd3ceeca",
   "metadata": {},
   "source": [
    "## Selección de jugadores\n",
    "\n",
    "Seleccionaremos algunos jugadores, aquellos con más partidas y algunos conocidos para ilustrar nuestro estudio posterior. Las partidas que consideraremos serán las de estos jugadores a lo largo de su trayectoria profesional (últimos X años) junto con la de todos los jugadores en los últimos (x meses / años). Así, tendremos suficientes partidas para realizar algunos estudios posteriores (Bot)."
   ]
  },
  {
   "cell_type": "code",
   "execution_count": 1,
   "id": "99905dce-c231-4363-a088-fbb94c7e98fe",
   "metadata": {},
   "outputs": [],
   "source": [
    "import chess.pgn\n",
    "import os\n",
    "from collections import defaultdict\n",
    "from tqdm import tqdm  # Barra de progreso\n",
    "from pyspark.sql import SparkSession\n",
    "from io import StringIO\n",
    "import subprocess"
   ]
  },
  {
   "cell_type": "markdown",
   "id": "c4da3e0e-0068-4de8-bb83-d9efb88a1b5c",
   "metadata": {},
   "source": [
    "### Buscamos los 10 jugadores con más partidas de cada color."
   ]
  },
  {
   "cell_type": "code",
   "execution_count": 3,
   "id": "c788ffc6-c315-47a4-822d-bedafc0da39e",
   "metadata": {},
   "outputs": [
    {
     "name": "stderr",
     "output_type": "stream",
     "text": [
      "                                                                                "
     ]
    },
    {
     "name": "stdout",
     "output_type": "stream",
     "text": [
      "🎯 Top 10 jugadores con más partidas con blancas:\n",
      "?: 111227 partidas\n",
      "Sarana,A: 173 partidas\n",
      "Bluebaum,M: 154 partidas\n",
      "Ambartsumova,K: 152 partidas\n",
      "Rustemov,A: 150 partidas\n",
      "Bortnyk,Olexandr: 149 partidas\n",
      "Makarian,Rudik: 144 partidas\n",
      "Zhigalko,S: 141 partidas\n",
      "Martinez Alcantara,Jose Eduardo: 141 partidas\n",
      "Barria Zuniga,D: 139 partidas\n",
      "\n",
      "🎯 Top 10 jugadores con más partidas con negras:\n",
      "?: 111227 partidas\n",
      "Sarana,A: 167 partidas\n",
      "Ambartsumova,K: 162 partidas\n",
      "Rustemov,A: 151 partidas\n",
      "Bluebaum,M: 148 partidas\n",
      "Bortnyk,Olexandr: 147 partidas\n",
      "Makarian,Rudik: 136 partidas\n",
      "Vlassov,N: 133 partidas\n",
      "Nakamura,Hi: 132 partidas\n",
      "Martinez Alcantara,Jose Eduardo: 132 partidas\n"
     ]
    }
   ],
   "source": [
    "# Crear sesión de Spark\n",
    "spark = SparkSession.builder \\\n",
    "    .appName(\"ContarJugadores\") \\\n",
    "    .master(\"local[*]\") \\\n",
    "    .getOrCreate()\n",
    "\n",
    "sc = spark.sparkContext\n",
    "\n",
    "# Rutas\n",
    "ruta_entrada = \"/user/ajedrez/limpios/\"  # Usa la carpeta de PGNs ya filtrados o limpios\n",
    "\n",
    "# Leer archivos PGN desde HDFS\n",
    "archivos_pgn = sc.wholeTextFiles(ruta_entrada + \"*.pgn\")  # (ruta, contenido)\n",
    "\n",
    "def extraer_jugadores(ruta_y_contenido):\n",
    "    _, contenido = ruta_y_contenido\n",
    "    resultados = []\n",
    "\n",
    "    pgn_stream = StringIO(contenido)\n",
    "    while True:\n",
    "        try:\n",
    "            game = chess.pgn.read_game(pgn_stream)\n",
    "            if game is None:\n",
    "                break\n",
    "            white = game.headers.get(\"White\", \"Unknown\")\n",
    "            black = game.headers.get(\"Black\", \"Unknown\")\n",
    "            resultados.append((white, \"W\"))\n",
    "            resultados.append((black, \"B\"))\n",
    "        except Exception:\n",
    "            continue\n",
    "    return resultados\n",
    "\n",
    "# Extraer jugadores con colores\n",
    "jugadores = archivos_pgn.flatMap(extraer_jugadores)\n",
    "\n",
    "# Contar partidas por jugador y color\n",
    "conteo = jugadores.map(lambda x: ((x[0], x[1]), 1)) \\\n",
    "                  .reduceByKey(lambda a, b: a + b)\n",
    "\n",
    "# Reestructurar a formato ((jugador), {\"W\": n1, \"B\": n2})\n",
    "conteo_por_jugador = conteo.map(lambda x: (x[0][0], {x[0][1]: x[1]})) \\\n",
    "                           .reduceByKey(lambda a, b: {\n",
    "                               \"W\": a.get(\"W\", 0) + b.get(\"W\", 0),\n",
    "                               \"B\": a.get(\"B\", 0) + b.get(\"B\", 0)\n",
    "                           })\n",
    "\n",
    "# Obtener top 10 jugadores por blancas y negras\n",
    "top_blancas = conteo_por_jugador.sortBy(lambda x: x[1].get(\"W\", 0), ascending=False).take(10)\n",
    "top_negras = conteo_por_jugador.sortBy(lambda x: x[1].get(\"B\", 0), ascending=False).take(10)\n",
    "\n",
    "# Mostrar resultados\n",
    "print(\"Top 10 jugadores con más partidas con blancas:\")\n",
    "for jugador, conteos in top_blancas:\n",
    "    print(f\"{jugador}: {conteos.get('W', 0)} partidas\")\n",
    "\n",
    "print(\"\\n Top 10 jugadores con más partidas con negras:\")\n",
    "for jugador, conteos in top_negras:\n",
    "    print(f\"{jugador}: {conteos.get('B', 0)} partidas\")\n",
    "\n",
    "spark.stop()\n"
   ]
  },
  {
   "cell_type": "markdown",
   "id": "99e6102a-52e4-4c31-93bf-88de57853761",
   "metadata": {},
   "source": [
    "### (Opcional) Guardar partidas de una selección de jugadores"
   ]
  },
  {
   "cell_type": "code",
   "execution_count": 1,
   "id": "604e9615-60dc-4cf8-bf09-81f7bbfe7fbf",
   "metadata": {},
   "outputs": [
    {
     "name": "stderr",
     "output_type": "stream",
     "text": [
      "Setting default log level to \"WARN\".\n",
      "To adjust logging level use sc.setLogLevel(newLevel). For SparkR, use setLogLevel(newLevel).\n",
      "25/05/08 21:39:36 WARN NativeCodeLoader: Unable to load native-hadoop library for your platform... using builtin-java classes where applicable\n",
      "                                                                                "
     ]
    },
    {
     "name": "stdout",
     "output_type": "stream",
     "text": [
      "\n",
      " Se guardaron 214 partidas en: /user/ajedrez/jugadores_objetivo/partidas_jugadores.pgn\n"
     ]
    }
   ],
   "source": [
    "from pyspark.sql import SparkSession\n",
    "from io import StringIO\n",
    "import os\n",
    "import chess.pgn\n",
    "import subprocess\n",
    "\n",
    "# Crear sesión Spark\n",
    "spark = SparkSession.builder \\\n",
    "    .appName(\"GuardarPartidasJugadores\") \\\n",
    "    .getOrCreate()\n",
    "sc = spark.sparkContext\n",
    "\n",
    "# Rutas en HDFS\n",
    "ruta_entrada = \"/user/ajedrez/limpios/\"\n",
    "ruta_salida = \"/user/ajedrez/jugadores_objetivo/\"\n",
    "archivo_salida_local = \"/tmp/partidas_jugadores.pgn\"\n",
    "\n",
    "# Crear carpeta de salida si no existe\n",
    "subprocess.run([\"hdfs\", \"dfs\", \"-mkdir\", \"-p\", ruta_salida])\n",
    "\n",
    "# Lista de jugadores objetivo\n",
    "jugadores_objetivo = [\"Carlsen,M\", \"Sarana, A\", \"Duda, J\"]\n",
    "\n",
    "# Leer archivos PGN\n",
    "archivos_pgn = sc.wholeTextFiles(ruta_entrada + \"*.pgn\")  # (ruta, contenido)\n",
    "\n",
    "def filtrar_partidas_objetivo(ruta_y_contenido):\n",
    "    _, contenido = ruta_y_contenido\n",
    "    pgn_stream = StringIO(contenido)\n",
    "    partidas = []\n",
    "\n",
    "    while True:\n",
    "        try:\n",
    "            game = chess.pgn.read_game(pgn_stream)\n",
    "            if game is None:\n",
    "                break\n",
    "\n",
    "            white = game.headers.get(\"White\", \"\")\n",
    "            black = game.headers.get(\"Black\", \"\")\n",
    "\n",
    "            if white in jugadores_objetivo or black in jugadores_objetivo:\n",
    "                exporter = chess.pgn.StringExporter(headers=True, variations=True, comments=True)\n",
    "                partidas.append(game.accept(exporter) + \"\\n\\n\")\n",
    "\n",
    "        except Exception:\n",
    "            continue\n",
    "\n",
    "    return partidas\n",
    "\n",
    "# Aplicar filtrado\n",
    "partidas_filtradas = archivos_pgn.flatMap(filtrar_partidas_objetivo)\n",
    "\n",
    "# Unir todas las partidas en un único archivo\n",
    "partidas_texto = partidas_filtradas.collect()\n",
    "\n",
    "# Guardar archivo temporalmente en el contenedor\n",
    "with open(archivo_salida_local, \"w\", encoding=\"utf-8\") as f:\n",
    "    for partida in partidas_texto:\n",
    "        f.write(partida)\n",
    "\n",
    "# Subir a HDFS\n",
    "ruta_archivo_hdfs = ruta_salida + \"partidas_jugadores.pgn\"\n",
    "subprocess.run([\"hdfs\", \"dfs\", \"-rm\", ruta_archivo_hdfs], stderr=subprocess.DEVNULL)\n",
    "subprocess.run([\"hdfs\", \"dfs\", \"-put\", archivo_salida_local, ruta_archivo_hdfs])\n",
    "\n",
    "print(f\"\\n Se guardaron {len(partidas_texto)} partidas en: {ruta_archivo_hdfs}\")\n",
    "\n",
    "spark.stop()\n"
   ]
  },
  {
   "cell_type": "code",
   "execution_count": null,
   "id": "4af8d9ed-3cac-4864-a549-0aef2454706f",
   "metadata": {},
   "outputs": [],
   "source": []
  }
 ],
 "metadata": {
  "kernelspec": {
   "display_name": "Python 3 (ipykernel)",
   "language": "python",
   "name": "python3"
  },
  "language_info": {
   "codemirror_mode": {
    "name": "ipython",
    "version": 3
   },
   "file_extension": ".py",
   "mimetype": "text/x-python",
   "name": "python",
   "nbconvert_exporter": "python",
   "pygments_lexer": "ipython3",
   "version": "3.9.2"
  }
 },
 "nbformat": 4,
 "nbformat_minor": 5
}

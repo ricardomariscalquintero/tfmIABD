{
 "cells": [
  {
   "cell_type": "markdown",
   "id": "8fc69900-9fdb-4188-846c-5a649be2149f",
   "metadata": {},
   "source": [
    "# Jugando contra Hikaru Nakamura\n",
    "\n",
    "<p style=\"float: right; margin-left: 15px;\">\n",
    "  <img src=\"Nakamura_foto.jpg\" width=\"230\">\n",
    "</p>\n",
    "\n",
    "Hikaru Nakamura es un Gran Maestro Internacional de ajedrez nacido en Japón y nacionalizado estadounidense. Reconocido por su estilo de juego agresivo y su rapidez mental, ha sido cinco veces campeón de Estados Unidos y es uno de los mejores jugadores de ajedrez blitz del mundo. Además de su exitosa carrera competitiva, Nakamura es una figura influyente en el mundo digital, conocido por sus transmisiones en vivo y su presencia en plataformas como Twitch y YouTube, donde ha contribuido significativamente a la popularización del ajedrez en línea.\n",
    "\n",
    "Además, como veremos a lo largo de este *notebook*, Nakamura se ha mostrado muy activo en los dos últimos años y medio (un millón de partidas aprox.) siendo el jugador con más partidas de nuestra base de datos (2969 partidas -> 1492 partidas con blancas y 1477 con negras). \n",
    "\n",
    "A través de un modelo (red neuronal convolucional) entrenado con las partidas de este jugador generaremos un `jugador artificial` (bot) que responderá a nuestras jugadas al estilo Nakamura. Para ello, usando el motor Stockfish se generarán n=10 posibles movimientos que serán evaluados por nuestro modelo para tomar aquel que más se aproxime a la forma de jugar de este Gran Maestro. Todo ello siempre y cuando estos posibles valores superen un umbral preestrablecido. Si las jugadas en cuestión no se parecen en nada con las que ha entrenado nuestro modelo este devolverá muy probablemente un valor inferior al umbral y en este caso se elegirá la jugada que decida Stockfish (restringida al ELO del jugador)."
   ]
  },
  {
   "cell_type": "markdown",
   "id": "5fde16e0-3db9-40d3-abaf-3fe9e853fe6b",
   "metadata": {},
   "source": [
    "## 1. Carga de librerías necesarias"
   ]
  },
  {
   "cell_type": "code",
   "execution_count": 1,
   "id": "134de9b2-cf56-4ca0-99b8-8ce878bf53c2",
   "metadata": {},
   "outputs": [],
   "source": [
    "# --- Librerías estándar de Python ---\n",
    "import os\n",
    "import io\n",
    "import re\n",
    "import numpy as np\n",
    "\n",
    "# --- Librerías relacionadas con ajedrez ---\n",
    "import chess\n",
    "import chess.svg\n",
    "import chess.pgn\n",
    "\n",
    "# --- Visualización en Jupyter ---\n",
    "from IPython.display import display, SVG\n",
    "\n",
    "# --- PySpark: configuración y utilidades ---\n",
    "from pyspark.sql import SparkSession\n",
    "from pyspark.sql.functions import col, udf, explode, input_file_name, lit, count\n",
    "from pyspark.sql.types import StringType, ArrayType, FloatType, StructType, StructField\n",
    "from pyspark.ml.feature import StringIndexer\n"
   ]
  },
  {
   "cell_type": "markdown",
   "id": "3b2dca6f-ba3a-41d7-9413-ba04be0995ae",
   "metadata": {},
   "source": [
    "## 2. Visualización de la carpeta HDFS con el origen de datos (descargados con Airflow)"
   ]
  },
  {
   "cell_type": "code",
   "execution_count": 2,
   "id": "d2545dae-23a0-4706-89af-3d63764c28a8",
   "metadata": {
    "scrolled": true
   },
   "outputs": [
    {
     "name": "stdout",
     "output_type": "stream",
     "text": [
      "Found 124 items\n",
      "-rw-r--r--   2 root supergroup    9538502 2025-05-18 18:28 /user/ajedrez/raw/twic1469.pgn\n",
      "-rw-r--r--   2 root supergroup    6166218 2025-05-18 18:28 /user/ajedrez/raw/twic1470.pgn\n",
      "-rw-r--r--   2 root supergroup    4904069 2025-05-18 18:28 /user/ajedrez/raw/twic1471.pgn\n",
      "-rw-r--r--   2 root supergroup    4605869 2025-05-18 18:28 /user/ajedrez/raw/twic1472.pgn\n",
      "-rw-r--r--   2 root supergroup    4617452 2025-05-18 18:28 /user/ajedrez/raw/twic1473.pgn\n",
      "-rw-r--r--   2 root supergroup    8575952 2025-05-18 18:28 /user/ajedrez/raw/twic1474.pgn\n",
      "-rw-r--r--   2 root supergroup    7371732 2025-05-18 18:28 /user/ajedrez/raw/twic1475.pgn\n",
      "-rw-r--r--   2 root supergroup    5094270 2025-05-18 18:28 /user/ajedrez/raw/twic1476.pgn\n",
      "-rw-r--r--   2 root supergroup    6262253 2025-05-18 18:28 /user/ajedrez/raw/twic1477.pgn\n",
      "-rw-r--r--   2 root supergroup    5352534 2025-05-18 18:28 /user/ajedrez/raw/twic1478.pgn\n",
      "-rw-r--r--   2 root supergroup    7013858 2025-05-18 18:28 /user/ajedrez/raw/twic1479.pgn\n",
      "-rw-r--r--   2 root supergroup    4265423 2025-05-18 18:28 /user/ajedrez/raw/twic1480.pgn\n",
      "-rw-r--r--   2 root supergroup    4995769 2025-05-18 18:28 /user/ajedrez/raw/twic1481.pgn\n",
      "-rw-r--r--   2 root supergroup    5758532 2025-05-18 18:28 /user/ajedrez/raw/twic1482.pgn\n",
      "-rw-r--r--   2 root supergroup    6782083 2025-05-18 18:28 /user/ajedrez/raw/twic1483.pgn\n",
      "-rw-r--r--   2 root supergroup    5908208 2025-05-18 18:28 /user/ajedrez/raw/twic1484.pgn\n",
      "-rw-r--r--   2 root supergroup    5099906 2025-05-18 18:28 /user/ajedrez/raw/twic1485.pgn\n",
      "-rw-r--r--   2 root supergroup    5639388 2025-05-18 18:28 /user/ajedrez/raw/twic1486.pgn\n",
      "-rw-r--r--   2 root supergroup    6794330 2025-05-18 18:28 /user/ajedrez/raw/twic1487.pgn\n",
      "-rw-r--r--   2 root supergroup    5133431 2025-05-18 18:28 /user/ajedrez/raw/twic1488.pgn\n",
      "-rw-r--r--   2 root supergroup    6074695 2025-05-18 18:28 /user/ajedrez/raw/twic1489.pgn\n",
      "-rw-r--r--   2 root supergroup    5285400 2025-05-18 18:28 /user/ajedrez/raw/twic1490.pgn\n",
      "-rw-r--r--   2 root supergroup    7709603 2025-05-18 18:28 /user/ajedrez/raw/twic1491.pgn\n",
      "-rw-r--r--   2 root supergroup    6764781 2025-05-18 18:28 /user/ajedrez/raw/twic1492.pgn\n",
      "-rw-r--r--   2 root supergroup    6674811 2025-05-18 18:28 /user/ajedrez/raw/twic1493.pgn\n",
      "-rw-r--r--   2 root supergroup    5965079 2025-05-18 18:28 /user/ajedrez/raw/twic1494.pgn\n",
      "-rw-r--r--   2 root supergroup    6058241 2025-05-18 18:28 /user/ajedrez/raw/twic1495.pgn\n",
      "-rw-r--r--   2 root supergroup    6858055 2025-05-18 18:28 /user/ajedrez/raw/twic1496.pgn\n",
      "-rw-r--r--   2 root supergroup    9617356 2025-05-18 18:28 /user/ajedrez/raw/twic1497.pgn\n",
      "-rw-r--r--   2 root supergroup    9785645 2025-05-18 18:28 /user/ajedrez/raw/twic1498.pgn\n",
      "-rw-r--r--   2 root supergroup    6839313 2025-05-18 18:28 /user/ajedrez/raw/twic1499.pgn\n",
      "-rw-r--r--   2 root supergroup    7019092 2025-05-18 18:28 /user/ajedrez/raw/twic1500.pgn\n",
      "-rw-r--r--   2 root supergroup    7432029 2025-05-18 18:28 /user/ajedrez/raw/twic1501.pgn\n",
      "-rw-r--r--   2 root supergroup    9396696 2025-05-18 18:28 /user/ajedrez/raw/twic1502.pgn\n",
      "-rw-r--r--   2 root supergroup    9447789 2025-05-18 18:28 /user/ajedrez/raw/twic1503.pgn\n",
      "-rw-r--r--   2 root supergroup    6688335 2025-05-18 18:28 /user/ajedrez/raw/twic1504.pgn\n",
      "-rw-r--r--   2 root supergroup    7728259 2025-05-18 18:28 /user/ajedrez/raw/twic1505.pgn\n",
      "-rw-r--r--   2 root supergroup    6927299 2025-05-18 18:28 /user/ajedrez/raw/twic1506.pgn\n",
      "-rw-r--r--   2 root supergroup    6507943 2025-05-18 18:28 /user/ajedrez/raw/twic1507.pgn\n",
      "-rw-r--r--   2 root supergroup    6409201 2025-05-18 18:28 /user/ajedrez/raw/twic1508.pgn\n",
      "-rw-r--r--   2 root supergroup    6329255 2025-05-18 18:28 /user/ajedrez/raw/twic1509.pgn\n",
      "-rw-r--r--   2 root supergroup    7963317 2025-05-18 18:28 /user/ajedrez/raw/twic1510.pgn\n",
      "-rw-r--r--   2 root supergroup    6932224 2025-05-18 18:28 /user/ajedrez/raw/twic1511.pgn\n",
      "-rw-r--r--   2 root supergroup    6685995 2025-05-18 18:28 /user/ajedrez/raw/twic1512.pgn\n",
      "-rw-r--r--   2 root supergroup    6462590 2025-05-18 18:28 /user/ajedrez/raw/twic1513.pgn\n",
      "-rw-r--r--   2 root supergroup    6430595 2025-05-18 18:28 /user/ajedrez/raw/twic1514.pgn\n",
      "-rw-r--r--   2 root supergroup    6978309 2025-05-18 18:28 /user/ajedrez/raw/twic1515.pgn\n",
      "-rw-r--r--   2 root supergroup    6514500 2025-05-18 18:28 /user/ajedrez/raw/twic1516.pgn\n",
      "-rw-r--r--   2 root supergroup    7012597 2025-05-18 18:28 /user/ajedrez/raw/twic1517.pgn\n",
      "-rw-r--r--   2 root supergroup    7514814 2025-05-18 18:28 /user/ajedrez/raw/twic1518.pgn\n",
      "-rw-r--r--   2 root supergroup    6235542 2025-05-18 18:28 /user/ajedrez/raw/twic1519.pgn\n",
      "-rw-r--r--   2 root supergroup    6578976 2025-05-18 18:28 /user/ajedrez/raw/twic1520.pgn\n",
      "-rw-r--r--   2 root supergroup    9793940 2025-05-18 18:28 /user/ajedrez/raw/twic1521.pgn\n",
      "-rw-r--r--   2 root supergroup    7137633 2025-05-18 18:28 /user/ajedrez/raw/twic1522.pgn\n",
      "-rw-r--r--   2 root supergroup    6560724 2025-05-18 18:28 /user/ajedrez/raw/twic1523.pgn\n",
      "-rw-r--r--   2 root supergroup    5866473 2025-05-18 18:28 /user/ajedrez/raw/twic1524.pgn\n",
      "-rw-r--r--   2 root supergroup    6985660 2025-05-18 18:28 /user/ajedrez/raw/twic1525.pgn\n",
      "-rw-r--r--   2 root supergroup    8287414 2025-05-18 18:28 /user/ajedrez/raw/twic1526.pgn\n",
      "-rw-r--r--   2 root supergroup    7243975 2025-05-18 18:28 /user/ajedrez/raw/twic1527.pgn\n",
      "-rw-r--r--   2 root supergroup    6744782 2025-05-18 18:28 /user/ajedrez/raw/twic1528.pgn\n",
      "-rw-r--r--   2 root supergroup    8604081 2025-05-18 18:28 /user/ajedrez/raw/twic1529.pgn\n",
      "-rw-r--r--   2 root supergroup    7859498 2025-05-18 18:28 /user/ajedrez/raw/twic1530.pgn\n",
      "-rw-r--r--   2 root supergroup    7208115 2025-05-18 18:28 /user/ajedrez/raw/twic1531.pgn\n",
      "-rw-r--r--   2 root supergroup    4978719 2025-05-18 18:28 /user/ajedrez/raw/twic1532.pgn\n",
      "-rw-r--r--   2 root supergroup    7528952 2025-05-18 18:28 /user/ajedrez/raw/twic1533.pgn\n",
      "-rw-r--r--   2 root supergroup    7003881 2025-05-18 18:28 /user/ajedrez/raw/twic1534.pgn\n",
      "-rw-r--r--   2 root supergroup    5910261 2025-05-18 18:28 /user/ajedrez/raw/twic1535.pgn\n",
      "-rw-r--r--   2 root supergroup    5583309 2025-05-18 18:28 /user/ajedrez/raw/twic1536.pgn\n",
      "-rw-r--r--   2 root supergroup    5765594 2025-05-18 18:28 /user/ajedrez/raw/twic1537.pgn\n",
      "-rw-r--r--   2 root supergroup    7180318 2025-05-18 18:28 /user/ajedrez/raw/twic1538.pgn\n",
      "-rw-r--r--   2 root supergroup    6987082 2025-05-18 18:28 /user/ajedrez/raw/twic1539.pgn\n",
      "-rw-r--r--   2 root supergroup    7561911 2025-05-18 18:28 /user/ajedrez/raw/twic1540.pgn\n",
      "-rw-r--r--   2 root supergroup    7237004 2025-05-18 18:28 /user/ajedrez/raw/twic1541.pgn\n",
      "-rw-r--r--   2 root supergroup    6681325 2025-05-18 18:28 /user/ajedrez/raw/twic1542.pgn\n",
      "-rw-r--r--   2 root supergroup   11363348 2025-05-18 18:28 /user/ajedrez/raw/twic1543.pgn\n",
      "-rw-r--r--   2 root supergroup    6603273 2025-05-18 18:28 /user/ajedrez/raw/twic1544.pgn\n",
      "-rw-r--r--   2 root supergroup    8190323 2025-05-18 18:28 /user/ajedrez/raw/twic1545.pgn\n",
      "-rw-r--r--   2 root supergroup    8551082 2025-05-18 18:28 /user/ajedrez/raw/twic1546.pgn\n",
      "-rw-r--r--   2 root supergroup    7987035 2025-05-18 18:28 /user/ajedrez/raw/twic1547.pgn\n",
      "-rw-r--r--   2 root supergroup    7799667 2025-05-18 18:28 /user/ajedrez/raw/twic1548.pgn\n",
      "-rw-r--r--   2 root supergroup    9887474 2025-05-18 18:28 /user/ajedrez/raw/twic1549.pgn\n",
      "-rw-r--r--   2 root supergroup   11058695 2025-05-18 18:28 /user/ajedrez/raw/twic1550.pgn\n",
      "-rw-r--r--   2 root supergroup    9384727 2025-05-18 18:28 /user/ajedrez/raw/twic1551.pgn\n",
      "-rw-r--r--   2 root supergroup    9596054 2025-05-18 18:28 /user/ajedrez/raw/twic1552.pgn\n",
      "-rw-r--r--   2 root supergroup    9612448 2025-05-18 18:28 /user/ajedrez/raw/twic1553.pgn\n",
      "-rw-r--r--   2 root supergroup   10858563 2025-05-18 18:28 /user/ajedrez/raw/twic1554.pgn\n",
      "-rw-r--r--   2 root supergroup   10159209 2025-05-18 18:28 /user/ajedrez/raw/twic1555.pgn\n",
      "-rw-r--r--   2 root supergroup    9045789 2025-05-18 18:28 /user/ajedrez/raw/twic1556.pgn\n",
      "-rw-r--r--   2 root supergroup    7486679 2025-05-18 18:28 /user/ajedrez/raw/twic1557.pgn\n",
      "-rw-r--r--   2 root supergroup    9145556 2025-05-18 18:28 /user/ajedrez/raw/twic1558.pgn\n",
      "-rw-r--r--   2 root supergroup    9209618 2025-05-18 18:28 /user/ajedrez/raw/twic1559.pgn\n",
      "-rw-r--r--   2 root supergroup    7074191 2025-05-18 18:28 /user/ajedrez/raw/twic1560.pgn\n",
      "-rw-r--r--   2 root supergroup    7155746 2025-05-18 18:28 /user/ajedrez/raw/twic1561.pgn\n",
      "-rw-r--r--   2 root supergroup    7959701 2025-05-18 18:28 /user/ajedrez/raw/twic1562.pgn\n",
      "-rw-r--r--   2 root supergroup    8605321 2025-05-18 18:28 /user/ajedrez/raw/twic1563.pgn\n",
      "-rw-r--r--   2 root supergroup    7644621 2025-05-18 18:28 /user/ajedrez/raw/twic1564.pgn\n",
      "-rw-r--r--   2 root supergroup    7431512 2025-05-18 18:28 /user/ajedrez/raw/twic1565.pgn\n",
      "-rw-r--r--   2 root supergroup    7210367 2025-05-18 18:28 /user/ajedrez/raw/twic1566.pgn\n",
      "-rw-r--r--   2 root supergroup    7325705 2025-05-18 18:28 /user/ajedrez/raw/twic1567.pgn\n",
      "-rw-r--r--   2 root supergroup    6351372 2025-05-18 18:28 /user/ajedrez/raw/twic1568.pgn\n",
      "-rw-r--r--   2 root supergroup    8875722 2025-05-18 18:28 /user/ajedrez/raw/twic1569.pgn\n",
      "-rw-r--r--   2 root supergroup    8933736 2025-05-18 18:28 /user/ajedrez/raw/twic1570.pgn\n",
      "-rw-r--r--   2 root supergroup    6894659 2025-05-18 18:28 /user/ajedrez/raw/twic1571.pgn\n",
      "-rw-r--r--   2 root supergroup    8867574 2025-05-18 18:28 /user/ajedrez/raw/twic1572.pgn\n",
      "-rw-r--r--   2 root supergroup    8437687 2025-05-18 18:28 /user/ajedrez/raw/twic1573.pgn\n",
      "-rw-r--r--   2 root supergroup    8943544 2025-05-18 18:28 /user/ajedrez/raw/twic1574.pgn\n",
      "-rw-r--r--   2 root supergroup    7553686 2025-05-18 18:28 /user/ajedrez/raw/twic1575.pgn\n",
      "-rw-r--r--   2 root supergroup    7079043 2025-05-18 18:28 /user/ajedrez/raw/twic1576.pgn\n",
      "-rw-r--r--   2 root supergroup    8067877 2025-05-18 18:28 /user/ajedrez/raw/twic1577.pgn\n",
      "-rw-r--r--   2 root supergroup    6835935 2025-05-18 18:28 /user/ajedrez/raw/twic1578.pgn\n",
      "-rw-r--r--   2 root supergroup    7616266 2025-05-18 18:28 /user/ajedrez/raw/twic1579.pgn\n",
      "-rw-r--r--   2 root supergroup    7707454 2025-05-18 18:28 /user/ajedrez/raw/twic1580.pgn\n",
      "-rw-r--r--   2 root supergroup    7656041 2025-05-18 18:28 /user/ajedrez/raw/twic1581.pgn\n",
      "-rw-r--r--   2 root supergroup    7809829 2025-05-18 18:28 /user/ajedrez/raw/twic1582.pgn\n",
      "-rw-r--r--   2 root supergroup    6435654 2025-05-18 18:28 /user/ajedrez/raw/twic1583.pgn\n",
      "-rw-r--r--   2 root supergroup    5503225 2025-05-18 18:28 /user/ajedrez/raw/twic1584.pgn\n",
      "-rw-r--r--   2 root supergroup    6260199 2025-05-18 18:28 /user/ajedrez/raw/twic1585.pgn\n",
      "-rw-r--r--   2 root supergroup    6109795 2025-05-18 18:28 /user/ajedrez/raw/twic1586.pgn\n",
      "-rw-r--r--   2 root supergroup    5487233 2025-05-18 18:28 /user/ajedrez/raw/twic1587.pgn\n",
      "-rw-r--r--   2 root supergroup    6210616 2025-05-18 18:28 /user/ajedrez/raw/twic1588.pgn\n",
      "-rw-r--r--   2 root supergroup    8889341 2025-05-18 18:28 /user/ajedrez/raw/twic1589.pgn\n",
      "-rw-r--r--   2 root supergroup    5757428 2025-05-18 18:28 /user/ajedrez/raw/twic1590.pgn\n",
      "-rw-r--r--   2 root supergroup    6762386 2025-05-18 18:49 /user/ajedrez/raw/twic1591.pgn\n",
      "-rw-r--r--   2 root supergroup    6362816 2025-05-18 18:49 /user/ajedrez/raw/twic1592.pgn\n"
     ]
    }
   ],
   "source": [
    "# Carpeta en HDFS con el origen de datos\n",
    "!hdfs dfs -ls /user/ajedrez/raw"
   ]
  },
  {
   "cell_type": "markdown",
   "id": "2c43104b-9bea-4c7f-8f34-652ae3824dbc",
   "metadata": {},
   "source": [
    "## 3. Inicialización de la sesión de Spark\n",
    "Creamos una sesión de *Spark* llamada spark. En `.master( )`\n",
    "\n",
    "- `\"yarn\"` ejecuta la aplicación en un clúster distribuido gestionado por YARN. Esto permite paralelizar el procesamiento a gran escala, distribuyendo las tareas entre varios nodos del clúster.\n",
    "\n",
    "- `\"local[*]\"` ejecuta Spark en modo local, usando todos los núcleos disponibles (*) en el equipo donde corre el script (en este ejemplo en el contenedor *spark-client*). Lo hemos usado para pruebas, el desarrollo del proyecto con datasets pequeños."
   ]
  },
  {
   "cell_type": "code",
   "execution_count": 3,
   "id": "a90933e2-a6d2-4e9c-aebb-d8a92d5b0a67",
   "metadata": {},
   "outputs": [
    {
     "name": "stderr",
     "output_type": "stream",
     "text": [
      "Setting default log level to \"WARN\".\n",
      "To adjust logging level use sc.setLogLevel(newLevel). For SparkR, use setLogLevel(newLevel).\n",
      "25/07/13 11:12:03 WARN NativeCodeLoader: Unable to load native-hadoop library for your platform... using builtin-java classes where applicable\n",
      "25/07/13 11:12:08 WARN Client: Neither spark.yarn.jars nor spark.yarn.archive is set, falling back to uploading libraries under SPARK_HOME.\n"
     ]
    }
   ],
   "source": [
    "spark = (\n",
    "    SparkSession.builder\n",
    "    .appName(\"Bot_Nakamura\")\n",
    "    .master(\"yarn\")  \n",
    "    .getOrCreate()\n",
    ")"
   ]
  },
  {
   "cell_type": "markdown",
   "id": "ccc831b7-337b-4e05-875e-b2357d0dd11f",
   "metadata": {},
   "source": [
    "## 4. Creación del dataframe de todas las partidas\n",
    "\n",
    "Leemos los archivos PGN desde HDFS y los dividimos en partidas individuales. Extraemos algunos metadatos clave (jugadores, fecha, variante) y filtramos las partidas estándar (excluyendo Chess960 que es una variante donde las fichas se desordenan antes de empezar la partida).\n",
    "\n",
    "El DataFrame resultante `df` contiene las siguientes columnas:\n",
    "\n",
    "- `archivo`: ruta del archivo de origen donde se ha extraído la partida  \n",
    "- `pgn`: texto completo de la partida en formato PGN  \n",
    "- `white`: nombre del jugador con blancas  \n",
    "- `black`: nombre del jugador con negras  \n",
    "- `date`: fecha de la partida  \n",
    "- `variant`: tipo de variante (nulo para partidas estándar)\n",
    "\n"
   ]
  },
  {
   "cell_type": "code",
   "execution_count": 4,
   "id": "4b74c2df-3e02-4fd9-a3f1-47ff3a16e59d",
   "metadata": {},
   "outputs": [
    {
     "name": "stderr",
     "output_type": "stream",
     "text": [
      "                                                                                "
     ]
    }
   ],
   "source": [
    "# Leer archivos PGN de HDFS\n",
    "rdd = spark.sparkContext.wholeTextFiles(\"hdfs:///user/ajedrez/raw/*.pgn\")\n",
    "\n",
    "# Función para dividir en partidas individuales\n",
    "def dividir_partidas_por_archivo(nombre_y_contenido):\n",
    "    ruta, contenido = nombre_y_contenido\n",
    "    partidas = re.split(r'\\n(?=\\[Event )', contenido)\n",
    "    return [(ruta, pgn) for pgn in partidas if \"[Event\" in pgn]\n",
    "\n",
    "# Dividir partidas y convertir a DataFrame\n",
    "rdd_partidas = rdd.flatMap(dividir_partidas_por_archivo)\n",
    "df_raw = rdd_partidas.toDF([\"archivo\", \"pgn\"])\n",
    "\n",
    "# Función para extraer tags\n",
    "def extraer_tag(tag, texto):\n",
    "    match = re.search(rf'\\[{tag} \"([^\"]+)\"\\]', texto)\n",
    "    return match.group(1) if match else None\n",
    "\n",
    "# Registrar UDFs\n",
    "extraer_white = udf(lambda x: extraer_tag(\"White\", x), StringType())\n",
    "extraer_black = udf(lambda x: extraer_tag(\"Black\", x), StringType())\n",
    "extraer_date = udf(lambda x: extraer_tag(\"Date\", x), StringType())\n",
    "extraer_variant = udf(lambda x: extraer_tag(\"Variant\", x), StringType())\n",
    "\n",
    "# Agregar columnas de metadatos\n",
    "df_con_tags = df_raw.withColumn(\"white\", extraer_white(col(\"pgn\"))) \\\n",
    "                    .withColumn(\"black\", extraer_black(col(\"pgn\"))) \\\n",
    "                    .withColumn(\"date\", extraer_date(col(\"pgn\"))) \\\n",
    "                    .withColumn(\"variant\", extraer_variant(col(\"pgn\")))\n",
    "\n",
    "# Filtrar solo partidas estándar (no Chess960)\n",
    "df = df_con_tags.filter((col(\"variant\").isNull()) | (col(\"variant\") != \"Chess960\"))"
   ]
  },
  {
   "cell_type": "code",
   "execution_count": 5,
   "id": "944ecdf3-279c-48a6-9d2a-9fca23d2b0c3",
   "metadata": {},
   "outputs": [
    {
     "name": "stderr",
     "output_type": "stream",
     "text": [
      "[Stage 1:=============================>                             (1 + 1) / 2]"
     ]
    },
    {
     "name": "stdout",
     "output_type": "stream",
     "text": [
      "Filas y columnas del dataframe de todas las partidas: (1009722, 6)\n",
      "['archivo', 'pgn', 'white', 'black', 'date', 'variant']\n"
     ]
    },
    {
     "name": "stderr",
     "output_type": "stream",
     "text": [
      "                                                                                "
     ]
    }
   ],
   "source": [
    "# Características del Dataframe df (Todas las partidas clásicas)\n",
    "# En PySpark los Dataframes no tienen atributo .shape\n",
    "filas = df.count()\n",
    "columnas = len(df.columns)\n",
    "print(f\"Filas y columnas del dataframe de todas las partidas: ({filas}, {columnas})\")\n",
    "print(df.columns)"
   ]
  },
  {
   "cell_type": "code",
   "execution_count": 6,
   "id": "208ac5f7-881c-40fb-9c6e-de33f588a320",
   "metadata": {},
   "outputs": [
    {
     "name": "stderr",
     "output_type": "stream",
     "text": [
      "                                                                                "
     ]
    },
    {
     "name": "stdout",
     "output_type": "stream",
     "text": [
      "+--------------------------------------------------+---------------------+----------------------+----------+\n",
      "|archivo                                           |white                |black                 |date      |\n",
      "+--------------------------------------------------+---------------------+----------------------+----------+\n",
      "|hdfs://namenode:9000/user/ajedrez/raw/twic1469.pgn|Harutyunyan,Tigran K.|Brunello,S            |2022.12.26|\n",
      "|hdfs://namenode:9000/user/ajedrez/raw/twic1469.pgn|Saraci,Nderim        |Vallejo Pons,F        |2022.12.26|\n",
      "|hdfs://namenode:9000/user/ajedrez/raw/twic1469.pgn|Pranav,V             |Naiditsch,A           |2022.12.26|\n",
      "|hdfs://namenode:9000/user/ajedrez/raw/twic1469.pgn|Arjun,Kalyan         |Adhiban,Baskaran      |2022.12.26|\n",
      "|hdfs://namenode:9000/user/ajedrez/raw/twic1469.pgn|Daneshvar,Bardiya    |Ghasi,A               |2022.12.26|\n",
      "|hdfs://namenode:9000/user/ajedrez/raw/twic1469.pgn|Idani,P              |Munkhgal,G            |2022.12.26|\n",
      "|hdfs://namenode:9000/user/ajedrez/raw/twic1469.pgn|Kovalev,Vl           |Petkov,Momchil        |2022.12.26|\n",
      "|hdfs://namenode:9000/user/ajedrez/raw/twic1469.pgn|Yilmaz,M             |Khripachenko,Alexander|2022.12.26|\n",
      "|hdfs://namenode:9000/user/ajedrez/raw/twic1469.pgn|Burmakin,V           |Lintchevski,D         |2022.12.26|\n",
      "|hdfs://namenode:9000/user/ajedrez/raw/twic1469.pgn|Nogerbek,Kazybek     |Narayanan,Sri         |2022.12.26|\n",
      "+--------------------------------------------------+---------------------+----------------------+----------+\n",
      "only showing top 10 rows\n",
      "\n"
     ]
    }
   ],
   "source": [
    "# Algunas partidas del Dataframe\n",
    "df.select(\"archivo\", \"white\", \"black\", \"date\").show(10,truncate=False)"
   ]
  },
  {
   "cell_type": "code",
   "execution_count": 7,
   "id": "89e3e32c-1050-45fb-984b-b1d92e02efda",
   "metadata": {},
   "outputs": [
    {
     "name": "stderr",
     "output_type": "stream",
     "text": [
      "[Stage 5:>                                                          (0 + 1) / 1]"
     ]
    },
    {
     "name": "stdout",
     "output_type": "stream",
     "text": [
      "[Event \"World Rapid 2022\"]\n",
      "[Site \"Almaty KAZ\"]\n",
      "[Date \"2022.12.26\"]\n",
      "[Round \"5.58\"]\n",
      "[White \"Harutyunyan,Tigran K.\"]\n",
      "[Black \"Brunello,S\"]\n",
      "[Result \"0-1\"]\n",
      "[WhiteTitle \"GM\"]\n",
      "[BlackTitle \"GM\"]\n",
      "[WhiteElo \"2511\"]\n",
      "[BlackElo \"2519\"]\n",
      "[ECO \"D35\"]\n",
      "[Opening \"QGD\"]\n",
      "[Variation \"exchange, positional line, 5...c6\"]\n",
      "[WhiteFideId \"13303635\"]\n",
      "[BlackFideId \"813613\"]\n",
      "[EventDate \"2022.12.26\"]\n",
      "\n",
      "1. c4 Nf6 2. Nc3 e6 3. d4 d5 4. cxd5 exd5 5. Bg5 c6 6. e3 h6 7. Bh4 Be7 8. Bd3\n",
      "O-O 9. Qc2 Re8 10. Nge2 a5 11. O-O Na6 12. a3 Nc7 13. Rad1 Ne6 14. f3 b5 15. Bf2\n",
      "Bd7 16. Kh1 Qb8 17. e4 b4 18. Na4 dxe4 19. fxe4 bxa3 20. bxa3 Bxa3 21. Bg3 Qa7\n",
      "22. Rxf6 gxf6 23. e5 Bf8 24. exf6 c5 25. d5 Nd4 26. Nxd4 cxd4 27. Qf2 Re3 28.\n",
      "Nb2 Qb7 29. Nc4 Rxd3 30. Rg1 Qxd5 31. Nb6 Qc6 32. Nxa8 Qxa8 33. Bf4 Qe4 34. Re1 0-1\n",
      "\n"
     ]
    },
    {
     "name": "stderr",
     "output_type": "stream",
     "text": [
      "                                                                                "
     ]
    }
   ],
   "source": [
    "# Primera partida del Dataframe de todas las partidas\n",
    "print(df.select(\"pgn\").first()[\"pgn\"])"
   ]
  },
  {
   "cell_type": "markdown",
   "id": "5d29a87d-5211-4720-93e6-e451d453b445",
   "metadata": {},
   "source": [
    "## 5. Buscamos los 10 jugadores con más partidas jugadas en ambos colores\n",
    "Apreciamos una diferencia muy significativa en el tiempo de ejecución entre local (\"local[*]\") y en el cluster (\"yarn\")."
   ]
  },
  {
   "cell_type": "code",
   "execution_count": 8,
   "id": "a6b32872-ab5f-4c7a-aea4-46c3fe199bc6",
   "metadata": {},
   "outputs": [
    {
     "name": "stdout",
     "output_type": "stream",
     "text": [
      "Top 10 jugadores con más partidas con blancas:\n"
     ]
    },
    {
     "name": "stderr",
     "output_type": "stream",
     "text": [
      "                                                                                "
     ]
    },
    {
     "name": "stdout",
     "output_type": "stream",
     "text": [
      "+-------------------------------+----+\n",
      "|jugador                        |W   |\n",
      "+-------------------------------+----+\n",
      "|Nakamura,Hi                    |1509|\n",
      "|Sarana,A                       |1429|\n",
      "|Bortnyk,Olexandr               |1390|\n",
      "|Martinez Alcantara,Jose Eduardo|1369|\n",
      "|Bluebaum,M                     |1353|\n",
      "|Paravyan,D                     |1339|\n",
      "|Zhigalko,S                     |1322|\n",
      "|Andreikin,D                    |1261|\n",
      "|Rustemov,A                     |1257|\n",
      "|Vlassov,N                      |1231|\n",
      "+-------------------------------+----+\n",
      "\n",
      "Top 10 jugadores con más partidas con negras:\n"
     ]
    },
    {
     "name": "stderr",
     "output_type": "stream",
     "text": [
      "[Stage 12:===========================================>              (3 + 1) / 4]"
     ]
    },
    {
     "name": "stdout",
     "output_type": "stream",
     "text": [
      "+-------------------------------+----+\n",
      "|jugador                        |B   |\n",
      "+-------------------------------+----+\n",
      "|Nakamura,Hi                    |1493|\n",
      "|Sarana,A                       |1394|\n",
      "|Paravyan,D                     |1320|\n",
      "|Bortnyk,Olexandr               |1315|\n",
      "|Martinez Alcantara,Jose Eduardo|1310|\n",
      "|Bluebaum,M                     |1308|\n",
      "|Zhigalko,S                     |1250|\n",
      "|Vlassov,N                      |1248|\n",
      "|Rustemov,A                     |1229|\n",
      "|Andreikin,D                    |1210|\n",
      "+-------------------------------+----+\n",
      "\n"
     ]
    },
    {
     "name": "stderr",
     "output_type": "stream",
     "text": [
      "                                                                                "
     ]
    }
   ],
   "source": [
    "# Contar partidas por jugador y color\n",
    "df_blancas = df.select(col(\"white\").alias(\"jugador\")).withColumn(\"color\", lit(\"W\"))\n",
    "df_negras  = df.select(col(\"black\").alias(\"jugador\")).withColumn(\"color\", lit(\"B\"))\n",
    "\n",
    "df_jugadores = df_blancas.union(df_negras)\n",
    "\n",
    "df_conteo = df_jugadores.groupBy(\"jugador\", \"color\").agg(count(\"*\").alias(\"partidas\"))\n",
    "\n",
    "df_resumen = df_conteo.groupBy(\"jugador\") \\\n",
    "                      .pivot(\"color\", [\"W\", \"B\"]) \\\n",
    "                      .sum(\"partidas\") \\\n",
    "                      .fillna(0)\n",
    "\n",
    "# Top 10 por blancas, solo mostrando columna W\n",
    "top_blancas = df_resumen.orderBy(col(\"W\").desc()).select(\"jugador\", \"W\").limit(10)\n",
    "print(\"Top 10 jugadores con más partidas con blancas:\")\n",
    "top_blancas.show(truncate=False)\n",
    "\n",
    "# Top 10 por negras, solo mostrando columna B\n",
    "top_negras = df_resumen.orderBy(col(\"B\").desc()).select(\"jugador\", \"B\").limit(10)\n",
    "print(\"Top 10 jugadores con más partidas con negras:\")\n",
    "top_negras.show(truncate=False)\n",
    "\n",
    "# Eliminar las referencias a estos dataframes por si hiciera falta liberar recursos\n",
    "# del df_blancas, df_negras, df_jugadores, df_conteo, df_resumen"
   ]
  },
  {
   "cell_type": "markdown",
   "id": "938420a0-c6f1-4b92-8741-a6669115068e",
   "metadata": {},
   "source": [
    "## 6. Jugador objetivo: Hikaru Nakamura\n",
    "Creamos un dataframe con todas sus partidas."
   ]
  },
  {
   "cell_type": "code",
   "execution_count": 9,
   "id": "fa562ad3-642b-463e-a9b2-1475516f8530",
   "metadata": {},
   "outputs": [],
   "source": [
    "# Filtrar partidas de Nakamura\n",
    "df_nakamura = df.filter((col(\"white\") == \"Nakamura,Hi\") | (col(\"black\") == \"Nakamura,Hi\"))"
   ]
  },
  {
   "cell_type": "code",
   "execution_count": 10,
   "id": "40de6086-0a11-4c2e-916b-f1607688038f",
   "metadata": {},
   "outputs": [
    {
     "name": "stderr",
     "output_type": "stream",
     "text": [
      "[Stage 18:>                                                         (0 + 2) / 2]"
     ]
    },
    {
     "name": "stdout",
     "output_type": "stream",
     "text": [
      "Filas y columnas del dataframe df_nakamura: (3002, 6)\n",
      "['archivo', 'pgn', 'white', 'black', 'date', 'variant']\n"
     ]
    },
    {
     "name": "stderr",
     "output_type": "stream",
     "text": [
      "                                                                                "
     ]
    }
   ],
   "source": [
    "# En PySpark los Dataframe no tiene atributo .shape\n",
    "filas = df_nakamura.count()\n",
    "columnas = len(df_nakamura.columns)\n",
    "print(f\"Filas y columnas del dataframe df_nakamura: ({filas}, {columnas})\")\n",
    "print(df_nakamura.columns)"
   ]
  },
  {
   "cell_type": "code",
   "execution_count": 11,
   "id": "fc0cef1d-7d76-470d-b4f7-f37b2744e6b8",
   "metadata": {},
   "outputs": [
    {
     "name": "stdout",
     "output_type": "stream",
     "text": [
      "+------------------+--------------+----------+\n",
      "|white             |black         |date      |\n",
      "+------------------+--------------+----------+\n",
      "|Nakamura,Hi       |Predke,A      |2022.12.27|\n",
      "|Savchenko,B       |Nakamura,Hi   |2022.12.27|\n",
      "|Nakamura,Hi       |Murzin,Volodar|2022.12.27|\n",
      "|Sargsyan,Shant    |Nakamura,Hi   |2022.12.27|\n",
      "|Nakamura,Hi       |Indjic,A      |2022.12.28|\n",
      "|Suleymanli,Aydin  |Nakamura,Hi   |2022.12.28|\n",
      "|Nakamura,Hi       |Quparadze,G   |2022.12.28|\n",
      "|Durarbayli,V      |Nakamura,Hi   |2022.12.28|\n",
      "|Yakubboev,Nodirbek|Nakamura,Hi   |2022.12.29|\n",
      "|Nakamura,Hi       |Yudin,S       |2022.12.29|\n",
      "+------------------+--------------+----------+\n",
      "only showing top 10 rows\n",
      "\n"
     ]
    }
   ],
   "source": [
    "# Dataframe de Nakamura y Dataframe de todas las partidas\n",
    "df_nakamura.select(\"white\", \"black\", \"date\").show(10, truncate=False)"
   ]
  },
  {
   "cell_type": "markdown",
   "id": "25554bf2-ef29-4f77-a94f-b01f95b3b53a",
   "metadata": {},
   "source": [
    "## 7. Código para leer y procesar partidas PGN\n",
    "\n",
    "Desarrollaremos un modelo de `aprendizaje supervisado`. Cada partida de ajedrez consiste en una secuencia de posiciones (tableros) \n",
    "y jugadas de respuesta a esa posición por parte de nuestro jugador. Esto es, tendremos pares (input, label):\n",
    "- **Input:**  El tablero antes de que Nakamura mueva (notación FEN) en la columna \"FEN\". \n",
    "- **Label:** La jugada que hizo Nakamura en esa posición (por ejemplo, en formato UCI como 'e2e4' en la columna \"Move\".\n",
    "Adicionalmente, tendremos en cuenta desde que color jugaba Nakamura en la columna \"Color\"\n",
    "\n",
    "\n",
    "La **notación FEN** (por sus siglas en inglés: *Forsyth-Edwards Notation*) describe una posición específica del tablero utilizando una sola línea de texto. Es muy utilizada para guardar posiciones de forma compacta y precisa. Una cadena FEN contiene 6 campos, separados por espacios. Por ejemplo: `rnbqkbnr/pppppppp/8/8/8/8/PPPPPPPP/RNBQKBNR w KQkq - 0 1`\n",
    "\n",
    "Esto representa la posición inicial de una partida de ajedrez. Explicamos cada parte:\n",
    "\n",
    "1. **Posición de las piezas:**  \n",
    "   `rnbqkbnr/pppppppp/8/8/8/8/PPPPPPPP/RNBQKBNR`  \n",
    "   Describe el tablero fila por fila, de arriba (8ª fila) hacia abajo (1ª fila). Las letras representan las piezas:\n",
    "   - Minúsculas = negras: `r`=torre, `n`=caballo, `b`=alfil, `q`=dama, `k`=rey, `p`=peón  \n",
    "   - Mayúsculas = blancas: `R`=torre, `N`=caballo, etc.  \n",
    "   Los números indican casillas vacías.\n",
    "\n",
    "2. **Turno:**  \n",
    "   `w` significa que le toca a las blancas jugar (`b` sería negras).\n",
    "\n",
    "3. **Derechos de enroque:**  \n",
    "   `KQkq` indica que ambos bandos pueden enrocarse en ambos flancos (K=blancas corto, Q=blancas largo, k=negras corto, q=negras largo). Si ningún jugador se puede enrocar, se usa `-`.\n",
    "\n",
    "4. **Captura al paso:**  \n",
    "   `-` indica que no hay captura al paso disponible. Si sí la hay, aparece la casilla objetivo (ej. `e3`).\n",
    "\n",
    "5. **Regla de los 50 movimientos:**  \n",
    "   `0` es el número de movimientos sin mover un peón ni capturar (para aplicar la regla de los 50 movimientos).\n",
    "\n",
    "6. **Número de jugada:**  \n",
    "   `1` es el número de jugada completa. Una jugada lo componen un movimiento de cada jugador, por tanto, aumenta en 1 después de cada jugada de las negras."
   ]
  },
  {
   "cell_type": "code",
   "execution_count": 12,
   "id": "174ff74c-e519-4a9b-9508-196de716852a",
   "metadata": {},
   "outputs": [
    {
     "name": "stderr",
     "output_type": "stream",
     "text": [
      "[Stage 22:=============================>                            (1 + 1) / 2]"
     ]
    },
    {
     "name": "stdout",
     "output_type": "stream",
     "text": [
      "+-------------------------------------------------------------------+----+-----+\n",
      "|FEN                                                                |Move|Color|\n",
      "+-------------------------------------------------------------------+----+-----+\n",
      "|rnbqkbnr/pppppppp/8/8/8/8/PPPPPPPP/RNBQKBNR w KQkq - 0 1           |e2e4|white|\n",
      "|rnbqkbnr/pp1ppppp/8/2p5/4P3/8/PPPP1PPP/RNBQKBNR w KQkq - 0 2       |g1f3|white|\n",
      "|rnbqkbnr/pp1p1ppp/4p3/2p5/4P3/5N2/PPPP1PPP/RNBQKB1R w KQkq - 0 3   |g2g3|white|\n",
      "|r1bqkbnr/pp1p1ppp/2n1p3/2p5/4P3/5NP1/PPPP1P1P/RNBQKB1R w KQkq - 1 4|f1g2|white|\n",
      "|r1bqkb1r/pp1p1ppp/2n1pn2/2p5/4P3/5NP1/PPPP1PBP/RNBQK2R w KQkq - 3 5|b1c3|white|\n",
      "|r1bqkb1r/pp3ppp/2nppn2/2p5/4P3/2N2NP1/PPPP1PBP/R1BQK2R w KQkq - 0 6|d2d4|white|\n",
      "|r1bqkb1r/pp3ppp/2nppn2/8/3pP3/2N2NP1/PPP2PBP/R1BQK2R w KQkq - 0 7  |f3d4|white|\n",
      "|r1bqkb1r/pp3ppp/3ppn2/8/3nP3/2N3P1/PPP2PBP/R1BQK2R w KQkq - 0 8    |d1d4|white|\n",
      "|r1bqk2r/pp2bppp/3ppn2/8/3QP3/2N3P1/PPP2PBP/R1B1K2R w KQkq - 1 9    |e1g1|white|\n",
      "|r1bqk2r/pp2bppp/3p1n2/4p3/3QP3/2N3P1/PPP2PBP/R1B2RK1 w kq - 0 10   |d4d3|white|\n",
      "+-------------------------------------------------------------------+----+-----+\n",
      "only showing top 10 rows\n",
      "\n"
     ]
    },
    {
     "name": "stderr",
     "output_type": "stream",
     "text": [
      "                                                                                "
     ]
    }
   ],
   "source": [
    "# Función para extraer las jugadas que hizo Nakamura (sin importar el color de juego)\n",
    "def pgn_a_jugadas_nakamura(pgn_str):\n",
    "    resultado = []\n",
    "    try:\n",
    "        game = chess.pgn.read_game(io.StringIO(pgn_str))\n",
    "        if not game:\n",
    "            return []\n",
    "\n",
    "        board = game.board()\n",
    "        white = game.headers.get(\"White\", \"\")\n",
    "        black = game.headers.get(\"Black\", \"\")\n",
    "\n",
    "        if white == \"Nakamura,Hi\":\n",
    "            color_jugador = chess.WHITE\n",
    "            color = \"white\"\n",
    "        elif black == \"Nakamura,Hi\":\n",
    "            color_jugador = chess.BLACK\n",
    "            color = \"black\"\n",
    "        else:\n",
    "            return []\n",
    "\n",
    "        for move in game.mainline_moves():\n",
    "            if board.turn == color_jugador:\n",
    "                resultado.append((board.fen(), move.uci(), color))\n",
    "            board.push(move)\n",
    "    except:\n",
    "        pass\n",
    "    return resultado\n",
    "\n",
    "# Esquema de salida\n",
    "esquema_jugada = ArrayType(StructType([\n",
    "    StructField(\"FEN\", StringType(), True),\n",
    "    StructField(\"Move\", StringType(), True),\n",
    "    StructField(\"Color\", StringType(), True)\n",
    "]))\n",
    "\n",
    "# UDF para extraer jugadas del jugador\n",
    "pgn_udf_nakamura = udf(pgn_a_jugadas_nakamura, esquema_jugada)\n",
    "\n",
    "# Aplicar y explotar resultados\n",
    "df_jugadas = df_nakamura.withColumn(\"jugadas\", explode(pgn_udf_nakamura(col(\"pgn\")))) \\\n",
    "                        .select(col(\"jugadas.FEN\"), col(\"jugadas.Move\"), col(\"jugadas.Color\"))\n",
    "\n",
    "# Cachear y mostrar\n",
    "df_jugadas.cache()\n",
    "df_jugadas.show(10, truncate=False)"
   ]
  },
  {
   "cell_type": "code",
   "execution_count": 14,
   "id": "5c2a122c-fe81-4bf5-8f76-a6e71a6d6cba",
   "metadata": {},
   "outputs": [
    {
     "name": "stdout",
     "output_type": "stream",
     "text": [
      "r n b q k b n r\n",
      "p p . p p p p p\n",
      ". . . . . . . .\n",
      ". . p . . . . .\n",
      ". . . . P . . .\n",
      ". . . . . . . .\n",
      "P P P P . P P P\n",
      "R N B Q K B N R\n"
     ]
    },
    {
     "data": {
      "image/svg+xml": [
       "<svg xmlns=\"http://www.w3.org/2000/svg\" xmlns:xlink=\"http://www.w3.org/1999/xlink\" viewBox=\"0 0 390 390\" width=\"200\" height=\"200\"><desc><pre>r n b q k b n r\n",
       "p p . p p p p p\n",
       ". . . . . . . .\n",
       ". . p . . . . .\n",
       ". . . . P . . .\n",
       ". . . . . . . .\n",
       "P P P P . P P P\n",
       "R N B Q K B N R</pre></desc><defs><g id=\"white-pawn\" class=\"white pawn\"><path d=\"M22.5 9c-2.21 0-4 1.79-4 4 0 .89.29 1.71.78 2.38C17.33 16.5 16 18.59 16 21c0 2.03.94 3.84 2.41 5.03-3 1.06-7.41 5.55-7.41 13.47h23c0-7.92-4.41-12.41-7.41-13.47 1.47-1.19 2.41-3 2.41-5.03 0-2.41-1.33-4.5-3.28-5.62.49-.67.78-1.49.78-2.38 0-2.21-1.79-4-4-4z\" fill=\"#fff\" stroke=\"#000\" stroke-width=\"1.5\" stroke-linecap=\"round\"/></g><g id=\"white-knight\" class=\"white knight\" fill=\"none\" fill-rule=\"evenodd\" stroke=\"#000\" stroke-width=\"1.5\" stroke-linecap=\"round\" stroke-linejoin=\"round\"><path d=\"M 22,10 C 32.5,11 38.5,18 38,39 L 15,39 C 15,30 25,32.5 23,18\" style=\"fill:#ffffff; stroke:#000000;\"/><path d=\"M 24,18 C 24.38,20.91 18.45,25.37 16,27 C 13,29 13.18,31.34 11,31 C 9.958,30.06 12.41,27.96 11,28 C 10,28 11.19,29.23 10,30 C 9,30 5.997,31 6,26 C 6,24 12,14 12,14 C 12,14 13.89,12.1 14,10.5 C 13.27,9.506 13.5,8.5 13.5,7.5 C 14.5,6.5 16.5,10 16.5,10 L 18.5,10 C 18.5,10 19.28,8.008 21,7 C 22,7 22,10 22,10\" style=\"fill:#ffffff; stroke:#000000;\"/><path d=\"M 9.5 25.5 A 0.5 0.5 0 1 1 8.5,25.5 A 0.5 0.5 0 1 1 9.5 25.5 z\" style=\"fill:#000000; stroke:#000000;\"/><path d=\"M 15 15.5 A 0.5 1.5 0 1 1 14,15.5 A 0.5 1.5 0 1 1 15 15.5 z\" transform=\"matrix(0.866,0.5,-0.5,0.866,9.693,-5.173)\" style=\"fill:#000000; stroke:#000000;\"/></g><g id=\"white-bishop\" class=\"white bishop\" fill=\"none\" fill-rule=\"evenodd\" stroke=\"#000\" stroke-width=\"1.5\" stroke-linecap=\"round\" stroke-linejoin=\"round\"><g fill=\"#fff\" stroke-linecap=\"butt\"><path d=\"M9 36c3.39-.97 10.11.43 13.5-2 3.39 2.43 10.11 1.03 13.5 2 0 0 1.65.54 3 2-.68.97-1.65.99-3 .5-3.39-.97-10.11.46-13.5-1-3.39 1.46-10.11.03-13.5 1-1.354.49-2.323.47-3-.5 1.354-1.94 3-2 3-2zM15 32c2.5 2.5 12.5 2.5 15 0 .5-1.5 0-2 0-2 0-2.5-2.5-4-2.5-4 5.5-1.5 6-11.5-5-15.5-11 4-10.5 14-5 15.5 0 0-2.5 1.5-2.5 4 0 0-.5.5 0 2zM25 8a2.5 2.5 0 1 1-5 0 2.5 2.5 0 1 1 5 0z\"/></g><path d=\"M17.5 26h10M15 30h15m-7.5-14.5v5M20 18h5\" stroke-linejoin=\"miter\"/></g><g id=\"white-rook\" class=\"white rook\" fill=\"#fff\" fill-rule=\"evenodd\" stroke=\"#000\" stroke-width=\"1.5\" stroke-linecap=\"round\" stroke-linejoin=\"round\"><path d=\"M9 39h27v-3H9v3zM12 36v-4h21v4H12zM11 14V9h4v2h5V9h5v2h5V9h4v5\" stroke-linecap=\"butt\"/><path d=\"M34 14l-3 3H14l-3-3\"/><path d=\"M31 17v12.5H14V17\" stroke-linecap=\"butt\" stroke-linejoin=\"miter\"/><path d=\"M31 29.5l1.5 2.5h-20l1.5-2.5\"/><path d=\"M11 14h23\" fill=\"none\" stroke-linejoin=\"miter\"/></g><g id=\"white-queen\" class=\"white queen\" fill=\"#fff\" fill-rule=\"evenodd\" stroke=\"#000\" stroke-width=\"1.5\" stroke-linecap=\"round\" stroke-linejoin=\"round\"><path d=\"M8 12a2 2 0 1 1-4 0 2 2 0 1 1 4 0zM24.5 7.5a2 2 0 1 1-4 0 2 2 0 1 1 4 0zM41 12a2 2 0 1 1-4 0 2 2 0 1 1 4 0zM16 8.5a2 2 0 1 1-4 0 2 2 0 1 1 4 0zM33 9a2 2 0 1 1-4 0 2 2 0 1 1 4 0z\"/><path d=\"M9 26c8.5-1.5 21-1.5 27 0l2-12-7 11V11l-5.5 13.5-3-15-3 15-5.5-14V25L7 14l2 12zM9 26c0 2 1.5 2 2.5 4 1 1.5 1 1 .5 3.5-1.5 1-1.5 2.5-1.5 2.5-1.5 1.5.5 2.5.5 2.5 6.5 1 16.5 1 23 0 0 0 1.5-1 0-2.5 0 0 .5-1.5-1-2.5-.5-2.5-.5-2 .5-3.5 1-2 2.5-2 2.5-4-8.5-1.5-18.5-1.5-27 0z\" stroke-linecap=\"butt\"/><path d=\"M11.5 30c3.5-1 18.5-1 22 0M12 33.5c6-1 15-1 21 0\" fill=\"none\"/></g><g id=\"white-king\" class=\"white king\" fill=\"none\" fill-rule=\"evenodd\" stroke=\"#000\" stroke-width=\"1.5\" stroke-linecap=\"round\" stroke-linejoin=\"round\"><path d=\"M22.5 11.63V6M20 8h5\" stroke-linejoin=\"miter\"/><path d=\"M22.5 25s4.5-7.5 3-10.5c0 0-1-2.5-3-2.5s-3 2.5-3 2.5c-1.5 3 3 10.5 3 10.5\" fill=\"#fff\" stroke-linecap=\"butt\" stroke-linejoin=\"miter\"/><path d=\"M11.5 37c5.5 3.5 15.5 3.5 21 0v-7s9-4.5 6-10.5c-4-6.5-13.5-3.5-16 4V27v-3.5c-3.5-7.5-13-10.5-16-4-3 6 5 10 5 10V37z\" fill=\"#fff\"/><path d=\"M11.5 30c5.5-3 15.5-3 21 0m-21 3.5c5.5-3 15.5-3 21 0m-21 3.5c5.5-3 15.5-3 21 0\"/></g><g id=\"black-pawn\" class=\"black pawn\"><path d=\"M22.5 9c-2.21 0-4 1.79-4 4 0 .89.29 1.71.78 2.38C17.33 16.5 16 18.59 16 21c0 2.03.94 3.84 2.41 5.03-3 1.06-7.41 5.55-7.41 13.47h23c0-7.92-4.41-12.41-7.41-13.47 1.47-1.19 2.41-3 2.41-5.03 0-2.41-1.33-4.5-3.28-5.62.49-.67.78-1.49.78-2.38 0-2.21-1.79-4-4-4z\" fill=\"#000\" stroke=\"#000\" stroke-width=\"1.5\" stroke-linecap=\"round\"/></g><g id=\"black-knight\" class=\"black knight\" fill=\"none\" fill-rule=\"evenodd\" stroke=\"#000\" stroke-width=\"1.5\" stroke-linecap=\"round\" stroke-linejoin=\"round\"><path d=\"M 22,10 C 32.5,11 38.5,18 38,39 L 15,39 C 15,30 25,32.5 23,18\" style=\"fill:#000000; stroke:#000000;\"/><path d=\"M 24,18 C 24.38,20.91 18.45,25.37 16,27 C 13,29 13.18,31.34 11,31 C 9.958,30.06 12.41,27.96 11,28 C 10,28 11.19,29.23 10,30 C 9,30 5.997,31 6,26 C 6,24 12,14 12,14 C 12,14 13.89,12.1 14,10.5 C 13.27,9.506 13.5,8.5 13.5,7.5 C 14.5,6.5 16.5,10 16.5,10 L 18.5,10 C 18.5,10 19.28,8.008 21,7 C 22,7 22,10 22,10\" style=\"fill:#000000; stroke:#000000;\"/><path d=\"M 9.5 25.5 A 0.5 0.5 0 1 1 8.5,25.5 A 0.5 0.5 0 1 1 9.5 25.5 z\" style=\"fill:#ececec; stroke:#ececec;\"/><path d=\"M 15 15.5 A 0.5 1.5 0 1 1 14,15.5 A 0.5 1.5 0 1 1 15 15.5 z\" transform=\"matrix(0.866,0.5,-0.5,0.866,9.693,-5.173)\" style=\"fill:#ececec; stroke:#ececec;\"/><path d=\"M 24.55,10.4 L 24.1,11.85 L 24.6,12 C 27.75,13 30.25,14.49 32.5,18.75 C 34.75,23.01 35.75,29.06 35.25,39 L 35.2,39.5 L 37.45,39.5 L 37.5,39 C 38,28.94 36.62,22.15 34.25,17.66 C 31.88,13.17 28.46,11.02 25.06,10.5 L 24.55,10.4 z \" style=\"fill:#ececec; stroke:none;\"/></g><g id=\"black-bishop\" class=\"black bishop\" fill=\"none\" fill-rule=\"evenodd\" stroke=\"#000\" stroke-width=\"1.5\" stroke-linecap=\"round\" stroke-linejoin=\"round\"><path d=\"M9 36c3.39-.97 10.11.43 13.5-2 3.39 2.43 10.11 1.03 13.5 2 0 0 1.65.54 3 2-.68.97-1.65.99-3 .5-3.39-.97-10.11.46-13.5-1-3.39 1.46-10.11.03-13.5 1-1.354.49-2.323.47-3-.5 1.354-1.94 3-2 3-2zm6-4c2.5 2.5 12.5 2.5 15 0 .5-1.5 0-2 0-2 0-2.5-2.5-4-2.5-4 5.5-1.5 6-11.5-5-15.5-11 4-10.5 14-5 15.5 0 0-2.5 1.5-2.5 4 0 0-.5.5 0 2zM25 8a2.5 2.5 0 1 1-5 0 2.5 2.5 0 1 1 5 0z\" fill=\"#000\" stroke-linecap=\"butt\"/><path d=\"M17.5 26h10M15 30h15m-7.5-14.5v5M20 18h5\" stroke=\"#fff\" stroke-linejoin=\"miter\"/></g><g id=\"black-rook\" class=\"black rook\" fill=\"#000\" fill-rule=\"evenodd\" stroke=\"#000\" stroke-width=\"1.5\" stroke-linecap=\"round\" stroke-linejoin=\"round\"><path d=\"M9 39h27v-3H9v3zM12.5 32l1.5-2.5h17l1.5 2.5h-20zM12 36v-4h21v4H12z\" stroke-linecap=\"butt\"/><path d=\"M14 29.5v-13h17v13H14z\" stroke-linecap=\"butt\" stroke-linejoin=\"miter\"/><path d=\"M14 16.5L11 14h23l-3 2.5H14zM11 14V9h4v2h5V9h5v2h5V9h4v5H11z\" stroke-linecap=\"butt\"/><path d=\"M12 35.5h21M13 31.5h19M14 29.5h17M14 16.5h17M11 14h23\" fill=\"none\" stroke=\"#fff\" stroke-width=\"1\" stroke-linejoin=\"miter\"/></g><g id=\"black-queen\" class=\"black queen\" fill=\"#000\" fill-rule=\"evenodd\" stroke=\"#000\" stroke-width=\"1.5\" stroke-linecap=\"round\" stroke-linejoin=\"round\"><g fill=\"#000\" stroke=\"none\"><circle cx=\"6\" cy=\"12\" r=\"2.75\"/><circle cx=\"14\" cy=\"9\" r=\"2.75\"/><circle cx=\"22.5\" cy=\"8\" r=\"2.75\"/><circle cx=\"31\" cy=\"9\" r=\"2.75\"/><circle cx=\"39\" cy=\"12\" r=\"2.75\"/></g><path d=\"M9 26c8.5-1.5 21-1.5 27 0l2.5-12.5L31 25l-.3-14.1-5.2 13.6-3-14.5-3 14.5-5.2-13.6L14 25 6.5 13.5 9 26zM9 26c0 2 1.5 2 2.5 4 1 1.5 1 1 .5 3.5-1.5 1-1.5 2.5-1.5 2.5-1.5 1.5.5 2.5.5 2.5 6.5 1 16.5 1 23 0 0 0 1.5-1 0-2.5 0 0 .5-1.5-1-2.5-.5-2.5-.5-2 .5-3.5 1-2 2.5-2 2.5-4-8.5-1.5-18.5-1.5-27 0z\" stroke-linecap=\"butt\"/><path d=\"M11 38.5a35 35 1 0 0 23 0\" fill=\"none\" stroke-linecap=\"butt\"/><path d=\"M11 29a35 35 1 0 1 23 0M12.5 31.5h20M11.5 34.5a35 35 1 0 0 22 0M10.5 37.5a35 35 1 0 0 24 0\" fill=\"none\" stroke=\"#fff\"/></g><g id=\"black-king\" class=\"black king\" fill=\"none\" fill-rule=\"evenodd\" stroke=\"#000\" stroke-width=\"1.5\" stroke-linecap=\"round\" stroke-linejoin=\"round\"><path d=\"M22.5 11.63V6\" stroke-linejoin=\"miter\"/><path d=\"M22.5 25s4.5-7.5 3-10.5c0 0-1-2.5-3-2.5s-3 2.5-3 2.5c-1.5 3 3 10.5 3 10.5\" fill=\"#000\" stroke-linecap=\"butt\" stroke-linejoin=\"miter\"/><path d=\"M11.5 37c5.5 3.5 15.5 3.5 21 0v-7s9-4.5 6-10.5c-4-6.5-13.5-3.5-16 4V27v-3.5c-3.5-7.5-13-10.5-16-4-3 6 5 10 5 10V37z\" fill=\"#000\"/><path d=\"M20 8h5\" stroke-linejoin=\"miter\"/><path d=\"M32 29.5s8.5-4 6.03-9.65C34.15 14 25 18 22.5 24.5l.01 2.1-.01-2.1C20 18 9.906 14 6.997 19.85c-2.497 5.65 4.853 9 4.853 9M11.5 30c5.5-3 15.5-3 21 0m-21 3.5c5.5-3 15.5-3 21 0m-21 3.5c5.5-3 15.5-3 21 0\" stroke=\"#fff\"/></g></defs><rect x=\"7.5\" y=\"7.5\" width=\"375\" height=\"375\" fill=\"none\" stroke=\"#212121\" stroke-width=\"15\"/><g transform=\"translate(20, 1) scale(0.75, 0.75)\" fill=\"#e5e5e5\" stroke=\"#e5e5e5\"><path d=\"M23.328 10.016q-1.742 0-2.414.398-.672.398-.672 1.36 0 .765.5 1.218.508.445 1.375.445 1.196 0 1.914-.843.727-.852.727-2.258v-.32zm2.867-.594v4.992h-1.437v-1.328q-.492.797-1.227 1.18-.734.375-1.797.375-1.343 0-2.14-.75-.79-.758-.79-2.024 0-1.476.985-2.226.992-.75 2.953-.75h2.016V8.75q0-.992-.656-1.531-.649-.547-1.829-.547-.75 0-1.46.18-.711.18-1.368.539V6.062q.79-.304 1.532-.453.742-.156 1.445-.156 1.898 0 2.836.984.937.985.937 2.985z\"/></g><g transform=\"translate(20, 375) scale(0.75, 0.75)\" fill=\"#e5e5e5\" stroke=\"#e5e5e5\"><path d=\"M23.328 10.016q-1.742 0-2.414.398-.672.398-.672 1.36 0 .765.5 1.218.508.445 1.375.445 1.196 0 1.914-.843.727-.852.727-2.258v-.32zm2.867-.594v4.992h-1.437v-1.328q-.492.797-1.227 1.18-.734.375-1.797.375-1.343 0-2.14-.75-.79-.758-.79-2.024 0-1.476.985-2.226.992-.75 2.953-.75h2.016V8.75q0-.992-.656-1.531-.649-.547-1.829-.547-.75 0-1.46.18-.711.18-1.368.539V6.062q.79-.304 1.532-.453.742-.156 1.445-.156 1.898 0 2.836.984.937.985.937 2.985z\"/></g><g transform=\"translate(65, 1) scale(0.75, 0.75)\" fill=\"#e5e5e5\" stroke=\"#e5e5e5\"><path d=\"M24.922 10.047q0-1.586-.656-2.485-.649-.906-1.79-.906-1.14 0-1.796.906-.649.899-.649 2.485 0 1.586.649 2.492.656.898 1.797.898 1.14 0 1.789-.898.656-.906.656-2.492zm-4.89-3.055q.452-.781 1.14-1.156.695-.383 1.656-.383 1.594 0 2.586 1.266 1 1.265 1 3.328 0 2.062-1 3.328-.992 1.266-2.586 1.266-.96 0-1.656-.375-.688-.383-1.14-1.164v1.312h-1.446V2.258h1.445z\"/></g><g transform=\"translate(65, 375) scale(0.75, 0.75)\" fill=\"#e5e5e5\" stroke=\"#e5e5e5\"><path d=\"M24.922 10.047q0-1.586-.656-2.485-.649-.906-1.79-.906-1.14 0-1.796.906-.649.899-.649 2.485 0 1.586.649 2.492.656.898 1.797.898 1.14 0 1.789-.898.656-.906.656-2.492zm-4.89-3.055q.452-.781 1.14-1.156.695-.383 1.656-.383 1.594 0 2.586 1.266 1 1.265 1 3.328 0 2.062-1 3.328-.992 1.266-2.586 1.266-.96 0-1.656-.375-.688-.383-1.14-1.164v1.312h-1.446V2.258h1.445z\"/></g><g transform=\"translate(110, 1) scale(0.75, 0.75)\" fill=\"#e5e5e5\" stroke=\"#e5e5e5\"><path d=\"M25.96 6v1.344q-.608-.336-1.226-.5-.609-.172-1.234-.172-1.398 0-2.172.89-.773.883-.773 2.485 0 1.601.773 2.492.774.883 2.172.883.625 0 1.234-.164.618-.172 1.227-.508v1.328q-.602.281-1.25.422-.64.14-1.367.14-1.977 0-3.14-1.242-1.165-1.242-1.165-3.351 0-2.14 1.172-3.367 1.18-1.227 3.227-1.227.664 0 1.296.14.633.134 1.227.407z\"/></g><g transform=\"translate(110, 375) scale(0.75, 0.75)\" fill=\"#e5e5e5\" stroke=\"#e5e5e5\"><path d=\"M25.96 6v1.344q-.608-.336-1.226-.5-.609-.172-1.234-.172-1.398 0-2.172.89-.773.883-.773 2.485 0 1.601.773 2.492.774.883 2.172.883.625 0 1.234-.164.618-.172 1.227-.508v1.328q-.602.281-1.25.422-.64.14-1.367.14-1.977 0-3.14-1.242-1.165-1.242-1.165-3.351 0-2.14 1.172-3.367 1.18-1.227 3.227-1.227.664 0 1.296.14.633.134 1.227.407z\"/></g><g transform=\"translate(155, 1) scale(0.75, 0.75)\" fill=\"#e5e5e5\" stroke=\"#e5e5e5\"><path d=\"M24.973 6.992V2.258h1.437v12.156h-1.437v-1.312q-.453.78-1.149 1.164-.687.375-1.656.375-1.586 0-2.586-1.266-.992-1.266-.992-3.328 0-2.063.992-3.328 1-1.266 2.586-1.266.969 0 1.656.383.696.375 1.149 1.156zm-4.899 3.055q0 1.586.649 2.492.656.898 1.797.898 1.14 0 1.796-.898.657-.906.657-2.492 0-1.586-.657-2.485-.656-.906-1.796-.906-1.141 0-1.797.906-.649.899-.649 2.485z\"/></g><g transform=\"translate(155, 375) scale(0.75, 0.75)\" fill=\"#e5e5e5\" stroke=\"#e5e5e5\"><path d=\"M24.973 6.992V2.258h1.437v12.156h-1.437v-1.312q-.453.78-1.149 1.164-.687.375-1.656.375-1.586 0-2.586-1.266-.992-1.266-.992-3.328 0-2.063.992-3.328 1-1.266 2.586-1.266.969 0 1.656.383.696.375 1.149 1.156zm-4.899 3.055q0 1.586.649 2.492.656.898 1.797.898 1.14 0 1.796-.898.657-.906.657-2.492 0-1.586-.657-2.485-.656-.906-1.796-.906-1.141 0-1.797.906-.649.899-.649 2.485z\"/></g><g transform=\"translate(200, 1) scale(0.75, 0.75)\" fill=\"#e5e5e5\" stroke=\"#e5e5e5\"><path d=\"M26.555 9.68v.703h-6.61q.094 1.484.89 2.265.806.774 2.235.774.828 0 1.602-.203.781-.203 1.547-.61v1.36q-.774.328-1.586.5-.813.172-1.649.172-2.093 0-3.32-1.22-1.219-1.218-1.219-3.296 0-2.148 1.157-3.406 1.164-1.266 3.132-1.266 1.766 0 2.79 1.14 1.03 1.134 1.03 3.087zm-1.438-.422q-.015-1.18-.664-1.883-.64-.703-1.703-.703-1.203 0-1.93.68-.718.68-.828 1.914z\"/></g><g transform=\"translate(200, 375) scale(0.75, 0.75)\" fill=\"#e5e5e5\" stroke=\"#e5e5e5\"><path d=\"M26.555 9.68v.703h-6.61q.094 1.484.89 2.265.806.774 2.235.774.828 0 1.602-.203.781-.203 1.547-.61v1.36q-.774.328-1.586.5-.813.172-1.649.172-2.093 0-3.32-1.22-1.219-1.218-1.219-3.296 0-2.148 1.157-3.406 1.164-1.266 3.132-1.266 1.766 0 2.79 1.14 1.03 1.134 1.03 3.087zm-1.438-.422q-.015-1.18-.664-1.883-.64-.703-1.703-.703-1.203 0-1.93.68-.718.68-.828 1.914z\"/></g><g transform=\"translate(245, 1) scale(0.75, 0.75)\" fill=\"#e5e5e5\" stroke=\"#e5e5e5\"><path d=\"M25.285 2.258v1.195H23.91q-.773 0-1.078.313-.297.312-.297 1.125v.773h2.367v1.117h-2.367v7.633H21.09V6.781h-1.375V5.664h1.375v-.61q0-1.46.68-2.124.68-.672 2.156-.672z\"/></g><g transform=\"translate(245, 375) scale(0.75, 0.75)\" fill=\"#e5e5e5\" stroke=\"#e5e5e5\"><path d=\"M25.285 2.258v1.195H23.91q-.773 0-1.078.313-.297.312-.297 1.125v.773h2.367v1.117h-2.367v7.633H21.09V6.781h-1.375V5.664h1.375v-.61q0-1.46.68-2.124.68-.672 2.156-.672z\"/></g><g transform=\"translate(290, 1) scale(0.75, 0.75)\" fill=\"#e5e5e5\" stroke=\"#e5e5e5\"><path d=\"M24.973 9.937q0-1.562-.649-2.421-.64-.86-1.804-.86-1.157 0-1.805.86-.64.859-.64 2.421 0 1.555.64 2.415.648.859 1.805.859 1.164 0 1.804-.86.649-.859.649-2.414zm1.437 3.391q0 2.234-.992 3.32-.992 1.094-3.04 1.094-.757 0-1.429-.117-.672-.11-1.304-.344v-1.398q.632.344 1.25.508.617.164 1.257.164 1.414 0 2.118-.743.703-.734.703-2.226v-.711q-.446.773-1.141 1.156-.695.383-1.664.383-1.61 0-2.594-1.227-.984-1.226-.984-3.25 0-2.03.984-3.257.985-1.227 2.594-1.227.969 0 1.664.383t1.14 1.156V5.664h1.438z\"/></g><g transform=\"translate(290, 375) scale(0.75, 0.75)\" fill=\"#e5e5e5\" stroke=\"#e5e5e5\"><path d=\"M24.973 9.937q0-1.562-.649-2.421-.64-.86-1.804-.86-1.157 0-1.805.86-.64.859-.64 2.421 0 1.555.64 2.415.648.859 1.805.859 1.164 0 1.804-.86.649-.859.649-2.414zm1.437 3.391q0 2.234-.992 3.32-.992 1.094-3.04 1.094-.757 0-1.429-.117-.672-.11-1.304-.344v-1.398q.632.344 1.25.508.617.164 1.257.164 1.414 0 2.118-.743.703-.734.703-2.226v-.711q-.446.773-1.141 1.156-.695.383-1.664.383-1.61 0-2.594-1.227-.984-1.226-.984-3.25 0-2.03.984-3.257.985-1.227 2.594-1.227.969 0 1.664.383t1.14 1.156V5.664h1.438z\"/></g><g transform=\"translate(335, 1) scale(0.75, 0.75)\" fill=\"#e5e5e5\" stroke=\"#e5e5e5\"><path d=\"M26.164 9.133v5.281h-1.437V9.18q0-1.243-.485-1.86-.484-.617-1.453-.617-1.164 0-1.836.742-.672.742-.672 2.024v4.945h-1.445V2.258h1.445v4.765q.516-.789 1.211-1.18.703-.39 1.617-.39 1.508 0 2.282.938.773.93.773 2.742z\"/></g><g transform=\"translate(335, 375) scale(0.75, 0.75)\" fill=\"#e5e5e5\" stroke=\"#e5e5e5\"><path d=\"M26.164 9.133v5.281h-1.437V9.18q0-1.243-.485-1.86-.484-.617-1.453-.617-1.164 0-1.836.742-.672.742-.672 2.024v4.945h-1.445V2.258h1.445v4.765q.516-.789 1.211-1.18.703-.39 1.617-.39 1.508 0 2.282.938.773.93.773 2.742z\"/></g><g transform=\"translate(0, 335) scale(0.75, 0.75)\" fill=\"#e5e5e5\" stroke=\"#e5e5e5\"><path d=\"M6.754 26.996h2.578v-8.898l-2.805.562v-1.437l2.79-.563h1.578v10.336h2.578v1.328h-6.72z\"/></g><g transform=\"translate(375, 335) scale(0.75, 0.75)\" fill=\"#e5e5e5\" stroke=\"#e5e5e5\"><path d=\"M6.754 26.996h2.578v-8.898l-2.805.562v-1.437l2.79-.563h1.578v10.336h2.578v1.328h-6.72z\"/></g><g transform=\"translate(0, 290) scale(0.75, 0.75)\" fill=\"#e5e5e5\" stroke=\"#e5e5e5\"><path d=\"M8.195 26.996h5.508v1.328H6.297v-1.328q.898-.93 2.445-2.492 1.555-1.57 1.953-2.024.758-.851 1.055-1.437.305-.594.305-1.164 0-.93-.657-1.516-.648-.586-1.695-.586-.742 0-1.57.258-.82.258-1.758.781v-1.593q.953-.383 1.781-.578.828-.196 1.516-.196 1.812 0 2.89.906 1.079.907 1.079 2.422 0 .72-.274 1.368-.265.64-.976 1.515-.196.227-1.243 1.313-1.046 1.078-2.953 3.023z\"/></g><g transform=\"translate(375, 290) scale(0.75, 0.75)\" fill=\"#e5e5e5\" stroke=\"#e5e5e5\"><path d=\"M8.195 26.996h5.508v1.328H6.297v-1.328q.898-.93 2.445-2.492 1.555-1.57 1.953-2.024.758-.851 1.055-1.437.305-.594.305-1.164 0-.93-.657-1.516-.648-.586-1.695-.586-.742 0-1.57.258-.82.258-1.758.781v-1.593q.953-.383 1.781-.578.828-.196 1.516-.196 1.812 0 2.89.906 1.079.907 1.079 2.422 0 .72-.274 1.368-.265.64-.976 1.515-.196.227-1.243 1.313-1.046 1.078-2.953 3.023z\"/></g><g transform=\"translate(0, 245) scale(0.75, 0.75)\" fill=\"#e5e5e5\" stroke=\"#e5e5e5\"><path d=\"M11.434 22.035q1.132.242 1.765 1.008.64.766.64 1.89 0 1.727-1.187 2.672-1.187.946-3.375.946-.734 0-1.515-.149-.774-.14-1.602-.43V26.45q.656.383 1.438.578.78.196 1.632.196 1.485 0 2.258-.586.782-.586.782-1.703 0-1.032-.727-1.61-.719-.586-2.008-.586h-1.36v-1.297h1.423q1.164 0 1.78-.46.618-.47.618-1.344 0-.899-.64-1.375-.633-.485-1.82-.485-.65 0-1.391.141-.743.14-1.633.437V16.95q.898-.25 1.68-.375.788-.125 1.484-.125 1.797 0 2.844.82 1.046.813 1.046 2.204 0 .968-.554 1.64-.555.664-1.578.922z\"/></g><g transform=\"translate(375, 245) scale(0.75, 0.75)\" fill=\"#e5e5e5\" stroke=\"#e5e5e5\"><path d=\"M11.434 22.035q1.132.242 1.765 1.008.64.766.64 1.89 0 1.727-1.187 2.672-1.187.946-3.375.946-.734 0-1.515-.149-.774-.14-1.602-.43V26.45q.656.383 1.438.578.78.196 1.632.196 1.485 0 2.258-.586.782-.586.782-1.703 0-1.032-.727-1.61-.719-.586-2.008-.586h-1.36v-1.297h1.423q1.164 0 1.78-.46.618-.47.618-1.344 0-.899-.64-1.375-.633-.485-1.82-.485-.65 0-1.391.141-.743.14-1.633.437V16.95q.898-.25 1.68-.375.788-.125 1.484-.125 1.797 0 2.844.82 1.046.813 1.046 2.204 0 .968-.554 1.64-.555.664-1.578.922z\"/></g><g transform=\"translate(0, 200) scale(0.75, 0.75)\" fill=\"#e5e5e5\" stroke=\"#e5e5e5\"><path d=\"M11.016 18.035L7.03 24.262h3.985zm-.414-1.375h1.984v7.602h1.664v1.312h-1.664v2.75h-1.57v-2.75H5.75v-1.523z\"/></g><g transform=\"translate(375, 200) scale(0.75, 0.75)\" fill=\"#e5e5e5\" stroke=\"#e5e5e5\"><path d=\"M11.016 18.035L7.03 24.262h3.985zm-.414-1.375h1.984v7.602h1.664v1.312h-1.664v2.75h-1.57v-2.75H5.75v-1.523z\"/></g><g transform=\"translate(0, 155) scale(0.75, 0.75)\" fill=\"#e5e5e5\" stroke=\"#e5e5e5\"><path d=\"M6.719 16.66h6.195v1.328h-4.75v2.86q.344-.118.688-.172.343-.063.687-.063 1.953 0 3.094 1.07 1.14 1.07 1.14 2.899 0 1.883-1.171 2.93-1.172 1.039-3.305 1.039-.735 0-1.5-.125-.758-.125-1.57-.375v-1.586q.703.383 1.453.57.75.188 1.586.188 1.351 0 2.14-.711.79-.711.79-1.93 0-1.219-.79-1.93-.789-.71-2.14-.71-.633 0-1.266.14-.625.14-1.281.438z\"/></g><g transform=\"translate(375, 155) scale(0.75, 0.75)\" fill=\"#e5e5e5\" stroke=\"#e5e5e5\"><path d=\"M6.719 16.66h6.195v1.328h-4.75v2.86q.344-.118.688-.172.343-.063.687-.063 1.953 0 3.094 1.07 1.14 1.07 1.14 2.899 0 1.883-1.171 2.93-1.172 1.039-3.305 1.039-.735 0-1.5-.125-.758-.125-1.57-.375v-1.586q.703.383 1.453.57.75.188 1.586.188 1.351 0 2.14-.711.79-.711.79-1.93 0-1.219-.79-1.93-.789-.71-2.14-.71-.633 0-1.266.14-.625.14-1.281.438z\"/></g><g transform=\"translate(0, 110) scale(0.75, 0.75)\" fill=\"#e5e5e5\" stroke=\"#e5e5e5\"><path d=\"M10.137 21.863q-1.063 0-1.688.727-.617.726-.617 1.992 0 1.258.617 1.992.625.727 1.688.727 1.062 0 1.68-.727.624-.734.624-1.992 0-1.266-.625-1.992-.617-.727-1.68-.727zm3.133-4.945v1.437q-.594-.28-1.204-.43-.601-.148-1.195-.148-1.562 0-2.39 1.055-.82 1.055-.938 3.188.46-.68 1.156-1.04.696-.367 1.531-.367 1.758 0 2.774 1.07 1.023 1.063 1.023 2.899 0 1.797-1.062 2.883-1.063 1.086-2.828 1.086-2.024 0-3.094-1.547-1.07-1.555-1.07-4.5 0-2.766 1.312-4.406 1.313-1.649 3.524-1.649.593 0 1.195.117.61.118 1.266.352z\"/></g><g transform=\"translate(375, 110) scale(0.75, 0.75)\" fill=\"#e5e5e5\" stroke=\"#e5e5e5\"><path d=\"M10.137 21.863q-1.063 0-1.688.727-.617.726-.617 1.992 0 1.258.617 1.992.625.727 1.688.727 1.062 0 1.68-.727.624-.734.624-1.992 0-1.266-.625-1.992-.617-.727-1.68-.727zm3.133-4.945v1.437q-.594-.28-1.204-.43-.601-.148-1.195-.148-1.562 0-2.39 1.055-.82 1.055-.938 3.188.46-.68 1.156-1.04.696-.367 1.531-.367 1.758 0 2.774 1.07 1.023 1.063 1.023 2.899 0 1.797-1.062 2.883-1.063 1.086-2.828 1.086-2.024 0-3.094-1.547-1.07-1.555-1.07-4.5 0-2.766 1.312-4.406 1.313-1.649 3.524-1.649.593 0 1.195.117.61.118 1.266.352z\"/></g><g transform=\"translate(0, 65) scale(0.75, 0.75)\" fill=\"#e5e5e5\" stroke=\"#e5e5e5\"><path d=\"M6.25 16.66h7.5v.672L9.516 28.324H7.867l3.985-10.336H6.25z\"/></g><g transform=\"translate(375, 65) scale(0.75, 0.75)\" fill=\"#e5e5e5\" stroke=\"#e5e5e5\"><path d=\"M6.25 16.66h7.5v.672L9.516 28.324H7.867l3.985-10.336H6.25z\"/></g><g transform=\"translate(0, 20) scale(0.75, 0.75)\" fill=\"#e5e5e5\" stroke=\"#e5e5e5\"><path d=\"M10 22.785q-1.125 0-1.773.602-.641.601-.641 1.656t.64 1.656q.649.602 1.774.602t1.773-.602q.649-.61.649-1.656 0-1.055-.649-1.656-.64-.602-1.773-.602zm-1.578-.672q-1.016-.25-1.586-.945-.563-.695-.563-1.695 0-1.399.993-2.211 1-.813 2.734-.813 1.742 0 2.734.813.993.812.993 2.21 0 1-.57 1.696-.563.695-1.571.945 1.14.266 1.773 1.04.641.773.641 1.89 0 1.695-1.04 2.602-1.03.906-2.96.906t-2.969-.906Q6 26.738 6 25.043q0-1.117.64-1.89.641-.774 1.782-1.04zm-.578-2.492q0 .906.562 1.414.57.508 1.594.508 1.016 0 1.586-.508.578-.508.578-1.414 0-.906-.578-1.414-.57-.508-1.586-.508-1.023 0-1.594.508-.562.508-.562 1.414z\"/></g><g transform=\"translate(375, 20) scale(0.75, 0.75)\" fill=\"#e5e5e5\" stroke=\"#e5e5e5\"><path d=\"M10 22.785q-1.125 0-1.773.602-.641.601-.641 1.656t.64 1.656q.649.602 1.774.602t1.773-.602q.649-.61.649-1.656 0-1.055-.649-1.656-.64-.602-1.773-.602zm-1.578-.672q-1.016-.25-1.586-.945-.563-.695-.563-1.695 0-1.399.993-2.211 1-.813 2.734-.813 1.742 0 2.734.813.993.812.993 2.21 0 1-.57 1.696-.563.695-1.571.945 1.14.266 1.773 1.04.641.773.641 1.89 0 1.695-1.04 2.602-1.03.906-2.96.906t-2.969-.906Q6 26.738 6 25.043q0-1.117.64-1.89.641-.774 1.782-1.04zm-.578-2.492q0 .906.562 1.414.57.508 1.594.508 1.016 0 1.586-.508.578-.508.578-1.414 0-.906-.578-1.414-.57-.508-1.586-.508-1.023 0-1.594.508-.562.508-.562 1.414z\"/></g><rect x=\"15\" y=\"330\" width=\"45\" height=\"45\" class=\"square dark a1\" stroke=\"none\" fill=\"#d18b47\"/><rect x=\"60\" y=\"330\" width=\"45\" height=\"45\" class=\"square light b1\" stroke=\"none\" fill=\"#ffce9e\"/><rect x=\"105\" y=\"330\" width=\"45\" height=\"45\" class=\"square dark c1\" stroke=\"none\" fill=\"#d18b47\"/><rect x=\"150\" y=\"330\" width=\"45\" height=\"45\" class=\"square light d1\" stroke=\"none\" fill=\"#ffce9e\"/><rect x=\"195\" y=\"330\" width=\"45\" height=\"45\" class=\"square dark e1\" stroke=\"none\" fill=\"#d18b47\"/><rect x=\"240\" y=\"330\" width=\"45\" height=\"45\" class=\"square light f1\" stroke=\"none\" fill=\"#ffce9e\"/><rect x=\"285\" y=\"330\" width=\"45\" height=\"45\" class=\"square dark g1\" stroke=\"none\" fill=\"#d18b47\"/><rect x=\"330\" y=\"330\" width=\"45\" height=\"45\" class=\"square light h1\" stroke=\"none\" fill=\"#ffce9e\"/><rect x=\"15\" y=\"285\" width=\"45\" height=\"45\" class=\"square light a2\" stroke=\"none\" fill=\"#ffce9e\"/><rect x=\"60\" y=\"285\" width=\"45\" height=\"45\" class=\"square dark b2\" stroke=\"none\" fill=\"#d18b47\"/><rect x=\"105\" y=\"285\" width=\"45\" height=\"45\" class=\"square light c2\" stroke=\"none\" fill=\"#ffce9e\"/><rect x=\"150\" y=\"285\" width=\"45\" height=\"45\" class=\"square dark d2\" stroke=\"none\" fill=\"#d18b47\"/><rect x=\"195\" y=\"285\" width=\"45\" height=\"45\" class=\"square light e2\" stroke=\"none\" fill=\"#ffce9e\"/><rect x=\"240\" y=\"285\" width=\"45\" height=\"45\" class=\"square dark f2\" stroke=\"none\" fill=\"#d18b47\"/><rect x=\"285\" y=\"285\" width=\"45\" height=\"45\" class=\"square light g2\" stroke=\"none\" fill=\"#ffce9e\"/><rect x=\"330\" y=\"285\" width=\"45\" height=\"45\" class=\"square dark h2\" stroke=\"none\" fill=\"#d18b47\"/><rect x=\"15\" y=\"240\" width=\"45\" height=\"45\" class=\"square dark a3\" stroke=\"none\" fill=\"#d18b47\"/><rect x=\"60\" y=\"240\" width=\"45\" height=\"45\" class=\"square light b3\" stroke=\"none\" fill=\"#ffce9e\"/><rect x=\"105\" y=\"240\" width=\"45\" height=\"45\" class=\"square dark c3\" stroke=\"none\" fill=\"#d18b47\"/><rect x=\"150\" y=\"240\" width=\"45\" height=\"45\" class=\"square light d3\" stroke=\"none\" fill=\"#ffce9e\"/><rect x=\"195\" y=\"240\" width=\"45\" height=\"45\" class=\"square dark e3\" stroke=\"none\" fill=\"#d18b47\"/><rect x=\"240\" y=\"240\" width=\"45\" height=\"45\" class=\"square light f3\" stroke=\"none\" fill=\"#ffce9e\"/><rect x=\"285\" y=\"240\" width=\"45\" height=\"45\" class=\"square dark g3\" stroke=\"none\" fill=\"#d18b47\"/><rect x=\"330\" y=\"240\" width=\"45\" height=\"45\" class=\"square light h3\" stroke=\"none\" fill=\"#ffce9e\"/><rect x=\"15\" y=\"195\" width=\"45\" height=\"45\" class=\"square light a4\" stroke=\"none\" fill=\"#ffce9e\"/><rect x=\"60\" y=\"195\" width=\"45\" height=\"45\" class=\"square dark b4\" stroke=\"none\" fill=\"#d18b47\"/><rect x=\"105\" y=\"195\" width=\"45\" height=\"45\" class=\"square light c4\" stroke=\"none\" fill=\"#ffce9e\"/><rect x=\"150\" y=\"195\" width=\"45\" height=\"45\" class=\"square dark d4\" stroke=\"none\" fill=\"#d18b47\"/><rect x=\"195\" y=\"195\" width=\"45\" height=\"45\" class=\"square light e4\" stroke=\"none\" fill=\"#ffce9e\"/><rect x=\"240\" y=\"195\" width=\"45\" height=\"45\" class=\"square dark f4\" stroke=\"none\" fill=\"#d18b47\"/><rect x=\"285\" y=\"195\" width=\"45\" height=\"45\" class=\"square light g4\" stroke=\"none\" fill=\"#ffce9e\"/><rect x=\"330\" y=\"195\" width=\"45\" height=\"45\" class=\"square dark h4\" stroke=\"none\" fill=\"#d18b47\"/><rect x=\"15\" y=\"150\" width=\"45\" height=\"45\" class=\"square dark a5\" stroke=\"none\" fill=\"#d18b47\"/><rect x=\"60\" y=\"150\" width=\"45\" height=\"45\" class=\"square light b5\" stroke=\"none\" fill=\"#ffce9e\"/><rect x=\"105\" y=\"150\" width=\"45\" height=\"45\" class=\"square dark c5\" stroke=\"none\" fill=\"#d18b47\"/><rect x=\"150\" y=\"150\" width=\"45\" height=\"45\" class=\"square light d5\" stroke=\"none\" fill=\"#ffce9e\"/><rect x=\"195\" y=\"150\" width=\"45\" height=\"45\" class=\"square dark e5\" stroke=\"none\" fill=\"#d18b47\"/><rect x=\"240\" y=\"150\" width=\"45\" height=\"45\" class=\"square light f5\" stroke=\"none\" fill=\"#ffce9e\"/><rect x=\"285\" y=\"150\" width=\"45\" height=\"45\" class=\"square dark g5\" stroke=\"none\" fill=\"#d18b47\"/><rect x=\"330\" y=\"150\" width=\"45\" height=\"45\" class=\"square light h5\" stroke=\"none\" fill=\"#ffce9e\"/><rect x=\"15\" y=\"105\" width=\"45\" height=\"45\" class=\"square light a6\" stroke=\"none\" fill=\"#ffce9e\"/><rect x=\"60\" y=\"105\" width=\"45\" height=\"45\" class=\"square dark b6\" stroke=\"none\" fill=\"#d18b47\"/><rect x=\"105\" y=\"105\" width=\"45\" height=\"45\" class=\"square light c6\" stroke=\"none\" fill=\"#ffce9e\"/><rect x=\"150\" y=\"105\" width=\"45\" height=\"45\" class=\"square dark d6\" stroke=\"none\" fill=\"#d18b47\"/><rect x=\"195\" y=\"105\" width=\"45\" height=\"45\" class=\"square light e6\" stroke=\"none\" fill=\"#ffce9e\"/><rect x=\"240\" y=\"105\" width=\"45\" height=\"45\" class=\"square dark f6\" stroke=\"none\" fill=\"#d18b47\"/><rect x=\"285\" y=\"105\" width=\"45\" height=\"45\" class=\"square light g6\" stroke=\"none\" fill=\"#ffce9e\"/><rect x=\"330\" y=\"105\" width=\"45\" height=\"45\" class=\"square dark h6\" stroke=\"none\" fill=\"#d18b47\"/><rect x=\"15\" y=\"60\" width=\"45\" height=\"45\" class=\"square dark a7\" stroke=\"none\" fill=\"#d18b47\"/><rect x=\"60\" y=\"60\" width=\"45\" height=\"45\" class=\"square light b7\" stroke=\"none\" fill=\"#ffce9e\"/><rect x=\"105\" y=\"60\" width=\"45\" height=\"45\" class=\"square dark c7\" stroke=\"none\" fill=\"#d18b47\"/><rect x=\"150\" y=\"60\" width=\"45\" height=\"45\" class=\"square light d7\" stroke=\"none\" fill=\"#ffce9e\"/><rect x=\"195\" y=\"60\" width=\"45\" height=\"45\" class=\"square dark e7\" stroke=\"none\" fill=\"#d18b47\"/><rect x=\"240\" y=\"60\" width=\"45\" height=\"45\" class=\"square light f7\" stroke=\"none\" fill=\"#ffce9e\"/><rect x=\"285\" y=\"60\" width=\"45\" height=\"45\" class=\"square dark g7\" stroke=\"none\" fill=\"#d18b47\"/><rect x=\"330\" y=\"60\" width=\"45\" height=\"45\" class=\"square light h7\" stroke=\"none\" fill=\"#ffce9e\"/><rect x=\"15\" y=\"15\" width=\"45\" height=\"45\" class=\"square light a8\" stroke=\"none\" fill=\"#ffce9e\"/><rect x=\"60\" y=\"15\" width=\"45\" height=\"45\" class=\"square dark b8\" stroke=\"none\" fill=\"#d18b47\"/><rect x=\"105\" y=\"15\" width=\"45\" height=\"45\" class=\"square light c8\" stroke=\"none\" fill=\"#ffce9e\"/><rect x=\"150\" y=\"15\" width=\"45\" height=\"45\" class=\"square dark d8\" stroke=\"none\" fill=\"#d18b47\"/><rect x=\"195\" y=\"15\" width=\"45\" height=\"45\" class=\"square light e8\" stroke=\"none\" fill=\"#ffce9e\"/><rect x=\"240\" y=\"15\" width=\"45\" height=\"45\" class=\"square dark f8\" stroke=\"none\" fill=\"#d18b47\"/><rect x=\"285\" y=\"15\" width=\"45\" height=\"45\" class=\"square light g8\" stroke=\"none\" fill=\"#ffce9e\"/><rect x=\"330\" y=\"15\" width=\"45\" height=\"45\" class=\"square dark h8\" stroke=\"none\" fill=\"#d18b47\"/><use href=\"#white-rook\" xlink:href=\"#white-rook\" transform=\"translate(15, 330)\"/><use href=\"#white-knight\" xlink:href=\"#white-knight\" transform=\"translate(60, 330)\"/><use href=\"#white-bishop\" xlink:href=\"#white-bishop\" transform=\"translate(105, 330)\"/><use href=\"#white-queen\" xlink:href=\"#white-queen\" transform=\"translate(150, 330)\"/><use href=\"#white-king\" xlink:href=\"#white-king\" transform=\"translate(195, 330)\"/><use href=\"#white-bishop\" xlink:href=\"#white-bishop\" transform=\"translate(240, 330)\"/><use href=\"#white-knight\" xlink:href=\"#white-knight\" transform=\"translate(285, 330)\"/><use href=\"#white-rook\" xlink:href=\"#white-rook\" transform=\"translate(330, 330)\"/><use href=\"#white-pawn\" xlink:href=\"#white-pawn\" transform=\"translate(15, 285)\"/><use href=\"#white-pawn\" xlink:href=\"#white-pawn\" transform=\"translate(60, 285)\"/><use href=\"#white-pawn\" xlink:href=\"#white-pawn\" transform=\"translate(105, 285)\"/><use href=\"#white-pawn\" xlink:href=\"#white-pawn\" transform=\"translate(150, 285)\"/><use href=\"#white-pawn\" xlink:href=\"#white-pawn\" transform=\"translate(240, 285)\"/><use href=\"#white-pawn\" xlink:href=\"#white-pawn\" transform=\"translate(285, 285)\"/><use href=\"#white-pawn\" xlink:href=\"#white-pawn\" transform=\"translate(330, 285)\"/><use href=\"#white-pawn\" xlink:href=\"#white-pawn\" transform=\"translate(195, 195)\"/><use href=\"#black-pawn\" xlink:href=\"#black-pawn\" transform=\"translate(105, 150)\"/><use href=\"#black-pawn\" xlink:href=\"#black-pawn\" transform=\"translate(15, 60)\"/><use href=\"#black-pawn\" xlink:href=\"#black-pawn\" transform=\"translate(60, 60)\"/><use href=\"#black-pawn\" xlink:href=\"#black-pawn\" transform=\"translate(150, 60)\"/><use href=\"#black-pawn\" xlink:href=\"#black-pawn\" transform=\"translate(195, 60)\"/><use href=\"#black-pawn\" xlink:href=\"#black-pawn\" transform=\"translate(240, 60)\"/><use href=\"#black-pawn\" xlink:href=\"#black-pawn\" transform=\"translate(285, 60)\"/><use href=\"#black-pawn\" xlink:href=\"#black-pawn\" transform=\"translate(330, 60)\"/><use href=\"#black-rook\" xlink:href=\"#black-rook\" transform=\"translate(15, 15)\"/><use href=\"#black-knight\" xlink:href=\"#black-knight\" transform=\"translate(60, 15)\"/><use href=\"#black-bishop\" xlink:href=\"#black-bishop\" transform=\"translate(105, 15)\"/><use href=\"#black-queen\" xlink:href=\"#black-queen\" transform=\"translate(150, 15)\"/><use href=\"#black-king\" xlink:href=\"#black-king\" transform=\"translate(195, 15)\"/><use href=\"#black-bishop\" xlink:href=\"#black-bishop\" transform=\"translate(240, 15)\"/><use href=\"#black-knight\" xlink:href=\"#black-knight\" transform=\"translate(285, 15)\"/><use href=\"#black-rook\" xlink:href=\"#black-rook\" transform=\"translate(330, 15)\"/></svg>"
      ],
      "text/plain": [
       "<IPython.core.display.SVG object>"
      ]
     },
     "metadata": {},
     "output_type": "display_data"
    }
   ],
   "source": [
    "# FEN de ejemplo. Los dos primeros anteriores\n",
    "\n",
    "#fen = \"rnbqkbnr/pppppppp/8/8/4P3/8/PPPP1PPP/RNBQKBNR b KQkq - 0 1\"\n",
    "fen = \"rnbqkbnr/pp1ppppp/8/2p5/4P3/8/PPPP1PPP/RNBQKBNR w KQkq\"\n",
    "# El tablero en la posición FEN descrita y el movimiento de Nakamura fue mover el caballo \"g1f3\" y \n",
    "\n",
    "#fen = \"8/8/8/8/8/8/4P3/8 w - - 0 1\"\n",
    "\n",
    "board = chess.Board(fen)\n",
    "\n",
    "# Muestra el tablero con letras\n",
    "print(board)\n",
    "\n",
    "# Muestra el tablero como SVG\n",
    "display(SVG(chess.svg.board(board=board,size=200)))\n",
    "\n",
    "# Guardar como archivo SVG\n",
    "with open(\"fen_posicion.svg\", \"w\") as f:\n",
    "    f.write(chess.svg.board(board=board, size=400))\n"
   ]
  },
  {
   "cell_type": "code",
   "execution_count": 15,
   "id": "c6137542-31dc-4649-9e88-add43a38f4f3",
   "metadata": {},
   "outputs": [
    {
     "name": "stdout",
     "output_type": "stream",
     "text": [
      "+-----+-----+\n",
      "|Color|count|\n",
      "+-----+-----+\n",
      "|white|72781|\n",
      "|black|73146|\n",
      "+-----+-----+\n",
      "\n"
     ]
    }
   ],
   "source": [
    "# Mostrar cuántas jugadas de Nakamura hay registradas en ambos colores\n",
    "df_jugadas.groupBy(\"Color\").count().show()"
   ]
  },
  {
   "cell_type": "markdown",
   "id": "3a14bf75-a16c-4f87-820d-b23651865ee4",
   "metadata": {},
   "source": [
    "## 8. Normalización. Convertir el estado FEN en una representación numérica\n",
    "\n",
    "En entornos locales podemos convertir cada posición FEN a un tensor 8×8×12 de ceros y unos utilizando `NumPy`: \n",
    "- **8x8** = las casillas del tablero (filas y columnas).\n",
    "- **12** = otra dimensión que indicará la pieza que está en esa casilla (6 tipos de pieza para cada color).\n",
    "\n",
    "Por ejemplo, si hay un peón blanco en la casilla e2, el tensor tendrá un `1` en la posición `[6][4][0]`, es decir:\n",
    "- Fila 6 (séptima pues comienza en 0). Las filas se cuentan de arriba hacia abajo en el tablero.\n",
    "- Columna 4 (que es la quinta, es decir, la columna \"e\") \n",
    "- Dimensión correspondiente a la pieza \"peón blanco\", \"P\", que es la 0.\n",
    "\n",
    "En este ámbito podemos aplicar funciones como `apply` sobre un DataFrame de `pandas`. Por otro lado,  se codifican los movimientos en etiquetas numéricas con `LabelEncoder`, lo que facilita su uso en modelos de clasificación como redes neuronales. Este enfoque funciona bien cuando los datos caben en memoria y el procesamiento se realiza en una sola máquina.\n",
    "\n",
    "### Limitación en entornos distribuidos (Spark)\n",
    "\n",
    "Dado que Spark trabaja de forma distribuida, no es posible usar directamente estructuras como `numpy.array` o `LabelEncoder` en DataFrames como lo haríamos en Pandas. Esto se debe a que los datos están repartidos entre múltiples nodos y los objetos de Python no se pueden compartir de forma automática. Por eso, en Spark se requiere:\n",
    "\n",
    "- Usar funciones UDF (User Defined Functions) registradas para aplicar lógica personalizada como la tensorización.\n",
    "- Aplicar codificación de etiquetas de forma distribuida, ya sea mediante transformaciones con UDFs o utilizando librerías adaptadas a Spark como `pyspark.ml.feature.StringIndexer`.\n",
    "\n",
    "Esto permite que el procesamiento escale correctamente en clústeres grandes.\n",
    "\n",
    "\n",
    "### ¿Qué haremos? Vectorización distribuida de posiciones FEN y codificación de movimientos en Spark\n",
    "\n",
    "\n",
    "1. **Conversión de FEN a vectores**:  \n",
    "   Definimos la función `fen_to_vector` que convierte una posición FEN en un tensor 8×8×12, y luego lo aplana (flatten) a un vector unidimensional. Esta función se registra como una **UDF (User Defined Function)** para aplicarse sobre cada fila del DataFrame distribuido.\n",
    "\n",
    "2. **Aplicación de la UDF**:  \n",
    "   Creamos una nueva columna `\"features\"` con el vector generado para cada posición FEN, lo que convierte cada partida en un ejemplo de entrada numérico para el modelo.\n",
    "\n",
    "3. **Separación por color**:  \n",
    "   Filtramos las jugadas para generar dos conjuntos de datos: uno donde el jugador juega con blancas (`df_white`) y otro con negras (`df_black`).\n",
    "\n",
    "4. **Codificación de movimientos (etiquetas)**:  \n",
    "   Como reemplazo de `LabelEncoder`, utilizamos `StringIndexer` de `pyspark.ml`, que transforma cada movimiento en una etiqueta numérica compatible con modelos de aprendizaje automático.\n",
    "\n",
    "5. **Guardado de clases**:  \n",
    "   Finalmente, se guardamos las clases (etiquetas codificadas) como archivos `.npy` para reutilizarlas posteriormente, por ejemplo, al decodificar predicciones del modelo.\n"
   ]
  },
  {
   "cell_type": "code",
   "execution_count": 16,
   "id": "36090948-27d5-4767-a275-63b1be5f36f0",
   "metadata": {},
   "outputs": [
    {
     "name": "stderr",
     "output_type": "stream",
     "text": [
      "                                                                                "
     ]
    }
   ],
   "source": [
    "# UDF para convertir FEN a vector\n",
    "piece_to_plane = {\n",
    "    'P': 0, 'N': 1, 'B': 2, 'R': 3, 'Q': 4, 'K': 5,\n",
    "    'p': 6, 'n': 7, 'b': 8, 'r': 9, 'q': 10, 'k': 11\n",
    "}\n",
    "\n",
    "def fen_to_vector(fen):\n",
    "    tensor = np.zeros((8, 8, 12), dtype=np.float32)\n",
    "    fen_board = fen.split(' ')[0]\n",
    "    rows = fen_board.split('/')\n",
    "    for i, row in enumerate(rows):\n",
    "        col_idx = 0\n",
    "        for char in row:\n",
    "            if char.isdigit():\n",
    "                col_idx += int(char)\n",
    "            elif char in piece_to_plane:\n",
    "                plane = piece_to_plane[char]\n",
    "                tensor[i, col_idx, plane] = 1\n",
    "                col_idx += 1\n",
    "    return tensor.flatten().tolist()\n",
    "\n",
    "# Registrar UDF\n",
    "fen_udf = udf(fen_to_vector, ArrayType(FloatType()))\n",
    "\n",
    "# Aplicar la UDF\n",
    "df_feat = df_jugadas.withColumn(\"features\", fen_udf(col(\"FEN\")))\n",
    "\n",
    "# Separar por color\n",
    "df_white = df_feat.filter(col(\"Color\") == \"white\")\n",
    "df_black = df_feat.filter(col(\"Color\") == \"black\")\n",
    "\n",
    "# Ajustar los indexadores\n",
    "indexer_white = StringIndexer(inputCol=\"Move\", outputCol=\"label\")\n",
    "model_white = indexer_white.fit(df_white)\n",
    "df_white_indexed = model_white.transform(df_white).select(\"features\", \"label\")\n",
    "\n",
    "indexer_black = StringIndexer(inputCol=\"Move\", outputCol=\"label\")\n",
    "model_black = indexer_black.fit(df_black)\n",
    "df_black_indexed = model_black.transform(df_black).select(\"features\", \"label\")\n",
    "\n",
    "# Guardar las clases (etiquetas)\n",
    "np.save(\"encoder_blancas.npy\", model_white.labels)\n",
    "np.save(\"encoder_negras.npy\", model_black.labels)"
   ]
  },
  {
   "cell_type": "code",
   "execution_count": 17,
   "id": "e3170514-6e76-4285-a8a3-7155bda1bc2a",
   "metadata": {},
   "outputs": [
    {
     "name": "stdout",
     "output_type": "stream",
     "text": [
      "root\n",
      " |-- features: array (nullable = true)\n",
      " |    |-- element: float (containsNull = true)\n",
      " |-- label: double (nullable = false)\n",
      "\n",
      "+--------------------+-----+\n",
      "|            features|label|\n",
      "+--------------------+-----+\n",
      "|[0.0, 0.0, 0.0, 0...|  8.0|\n",
      "+--------------------+-----+\n",
      "only showing top 1 row\n",
      "\n",
      "root\n",
      " |-- features: array (nullable = true)\n",
      " |    |-- element: float (containsNull = true)\n",
      " |-- label: double (nullable = false)\n",
      "\n",
      "+--------------------+-----+\n",
      "|            features|label|\n",
      "+--------------------+-----+\n",
      "|[0.0, 0.0, 0.0, 0...|  6.0|\n",
      "+--------------------+-----+\n",
      "only showing top 1 row\n",
      "\n"
     ]
    }
   ],
   "source": [
    "df_white_indexed.printSchema()\n",
    "df_white_indexed.show(1)\n",
    "df_black_indexed.printSchema()\n",
    "df_black_indexed.show(1)"
   ]
  },
  {
   "cell_type": "markdown",
   "id": "9ffbbc07-6bc3-4162-ad9c-4090bd03a7d1",
   "metadata": {},
   "source": [
    "## 9. Guardado de las jugadas codificadas"
   ]
  },
  {
   "cell_type": "code",
   "execution_count": 18,
   "id": "6f3bdfec-84cf-4094-bb0f-c0ade38e30d8",
   "metadata": {},
   "outputs": [
    {
     "name": "stderr",
     "output_type": "stream",
     "text": [
      "                                                                                "
     ]
    }
   ],
   "source": [
    "# Guardar en HDFS directamente usando Spark\n",
    "df_white_indexed.write.mode(\"overwrite\").parquet(\"hdfs:///user/ajedrez/datos_cnn/blancas/fen_jugadas.parquet\")\n",
    "df_black_indexed.write.mode(\"overwrite\").parquet(\"hdfs:///user/ajedrez/datos_cnn/negras/fen_jugadas.parquet\")"
   ]
  },
  {
   "cell_type": "code",
   "execution_count": 19,
   "id": "dfad8423-e8ea-48c4-a8cb-6358ba2aa58d",
   "metadata": {},
   "outputs": [
    {
     "name": "stdout",
     "output_type": "stream",
     "text": [
      "Found 1 items\n",
      "drwxr-xr-x   - root supergroup          0 2025-07-13 11:16 /user/ajedrez/datos_cnn/blancas/fen_jugadas.parquet\n",
      "Found 1 items\n",
      "drwxr-xr-x   - root supergroup          0 2025-07-13 11:16 /user/ajedrez/datos_cnn/negras/fen_jugadas.parquet\n"
     ]
    }
   ],
   "source": [
    " !hdfs dfs -ls /user/ajedrez/datos_cnn/blancas\n",
    " !hdfs dfs -ls /user/ajedrez/datos_cnn/negras"
   ]
  },
  {
   "cell_type": "code",
   "execution_count": null,
   "id": "3ba6e61f-7d3d-41df-8335-203d9f3a1190",
   "metadata": {},
   "outputs": [],
   "source": []
  }
 ],
 "metadata": {
  "kernelspec": {
   "display_name": "Python 3 (ipykernel)",
   "language": "python",
   "name": "python3"
  },
  "language_info": {
   "codemirror_mode": {
    "name": "ipython",
    "version": 3
   },
   "file_extension": ".py",
   "mimetype": "text/x-python",
   "name": "python",
   "nbconvert_exporter": "python",
   "pygments_lexer": "ipython3",
   "version": "3.9.2"
  }
 },
 "nbformat": 4,
 "nbformat_minor": 5
}
